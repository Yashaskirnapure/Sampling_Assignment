{
 "cells": [
  {
   "cell_type": "code",
   "execution_count": 3,
   "id": "3e5692ba-3fca-4089-83ca-7cefc885b517",
   "metadata": {},
   "outputs": [],
   "source": [
    "import pandas as pd\n",
    "import numpy as np"
   ]
  },
  {
   "cell_type": "code",
   "execution_count": 4,
   "id": "2f118940-2bb3-46e5-ba16-9ea7f5daa3df",
   "metadata": {},
   "outputs": [],
   "source": [
    "df = pd.read_csv('Creditcard_data.csv')"
   ]
  },
  {
   "cell_type": "code",
   "execution_count": 5,
   "id": "78602ee0-cdca-4810-a447-4e26f301f747",
   "metadata": {},
   "outputs": [
    {
     "data": {
      "text/html": [
       "<div>\n",
       "<style scoped>\n",
       "    .dataframe tbody tr th:only-of-type {\n",
       "        vertical-align: middle;\n",
       "    }\n",
       "\n",
       "    .dataframe tbody tr th {\n",
       "        vertical-align: top;\n",
       "    }\n",
       "\n",
       "    .dataframe thead th {\n",
       "        text-align: right;\n",
       "    }\n",
       "</style>\n",
       "<table border=\"1\" class=\"dataframe\">\n",
       "  <thead>\n",
       "    <tr style=\"text-align: right;\">\n",
       "      <th></th>\n",
       "      <th>Time</th>\n",
       "      <th>V1</th>\n",
       "      <th>V2</th>\n",
       "      <th>V3</th>\n",
       "      <th>V4</th>\n",
       "      <th>V5</th>\n",
       "      <th>V6</th>\n",
       "      <th>V7</th>\n",
       "      <th>V8</th>\n",
       "      <th>V9</th>\n",
       "      <th>...</th>\n",
       "      <th>V21</th>\n",
       "      <th>V22</th>\n",
       "      <th>V23</th>\n",
       "      <th>V24</th>\n",
       "      <th>V25</th>\n",
       "      <th>V26</th>\n",
       "      <th>V27</th>\n",
       "      <th>V28</th>\n",
       "      <th>Amount</th>\n",
       "      <th>Class</th>\n",
       "    </tr>\n",
       "  </thead>\n",
       "  <tbody>\n",
       "    <tr>\n",
       "      <th>0</th>\n",
       "      <td>0</td>\n",
       "      <td>-1.359807</td>\n",
       "      <td>-0.072781</td>\n",
       "      <td>2.536347</td>\n",
       "      <td>1.378155</td>\n",
       "      <td>-0.338321</td>\n",
       "      <td>0.462388</td>\n",
       "      <td>0.239599</td>\n",
       "      <td>0.098698</td>\n",
       "      <td>0.363787</td>\n",
       "      <td>...</td>\n",
       "      <td>-0.018307</td>\n",
       "      <td>0.277838</td>\n",
       "      <td>-0.110474</td>\n",
       "      <td>0.066928</td>\n",
       "      <td>0.128539</td>\n",
       "      <td>-0.189115</td>\n",
       "      <td>0.133558</td>\n",
       "      <td>-0.021053</td>\n",
       "      <td>149.62</td>\n",
       "      <td>0</td>\n",
       "    </tr>\n",
       "    <tr>\n",
       "      <th>1</th>\n",
       "      <td>0</td>\n",
       "      <td>1.191857</td>\n",
       "      <td>0.266151</td>\n",
       "      <td>0.166480</td>\n",
       "      <td>0.448154</td>\n",
       "      <td>0.060018</td>\n",
       "      <td>-0.082361</td>\n",
       "      <td>-0.078803</td>\n",
       "      <td>0.085102</td>\n",
       "      <td>-0.255425</td>\n",
       "      <td>...</td>\n",
       "      <td>-0.225775</td>\n",
       "      <td>-0.638672</td>\n",
       "      <td>0.101288</td>\n",
       "      <td>-0.339846</td>\n",
       "      <td>0.167170</td>\n",
       "      <td>0.125895</td>\n",
       "      <td>-0.008983</td>\n",
       "      <td>0.014724</td>\n",
       "      <td>2.69</td>\n",
       "      <td>1</td>\n",
       "    </tr>\n",
       "    <tr>\n",
       "      <th>2</th>\n",
       "      <td>1</td>\n",
       "      <td>-1.358354</td>\n",
       "      <td>-1.340163</td>\n",
       "      <td>1.773209</td>\n",
       "      <td>0.379780</td>\n",
       "      <td>-0.503198</td>\n",
       "      <td>1.800499</td>\n",
       "      <td>0.791461</td>\n",
       "      <td>0.247676</td>\n",
       "      <td>-1.514654</td>\n",
       "      <td>...</td>\n",
       "      <td>0.247998</td>\n",
       "      <td>0.771679</td>\n",
       "      <td>0.909412</td>\n",
       "      <td>-0.689281</td>\n",
       "      <td>-0.327642</td>\n",
       "      <td>-0.139097</td>\n",
       "      <td>-0.055353</td>\n",
       "      <td>-0.059752</td>\n",
       "      <td>378.66</td>\n",
       "      <td>0</td>\n",
       "    </tr>\n",
       "    <tr>\n",
       "      <th>3</th>\n",
       "      <td>1</td>\n",
       "      <td>-0.966272</td>\n",
       "      <td>-0.185226</td>\n",
       "      <td>1.792993</td>\n",
       "      <td>-0.863291</td>\n",
       "      <td>-0.010309</td>\n",
       "      <td>1.247203</td>\n",
       "      <td>0.237609</td>\n",
       "      <td>0.377436</td>\n",
       "      <td>-1.387024</td>\n",
       "      <td>...</td>\n",
       "      <td>-0.108300</td>\n",
       "      <td>0.005274</td>\n",
       "      <td>-0.190321</td>\n",
       "      <td>-1.175575</td>\n",
       "      <td>0.647376</td>\n",
       "      <td>-0.221929</td>\n",
       "      <td>0.062723</td>\n",
       "      <td>0.061458</td>\n",
       "      <td>123.50</td>\n",
       "      <td>0</td>\n",
       "    </tr>\n",
       "    <tr>\n",
       "      <th>4</th>\n",
       "      <td>2</td>\n",
       "      <td>-1.158233</td>\n",
       "      <td>0.877737</td>\n",
       "      <td>1.548718</td>\n",
       "      <td>0.403034</td>\n",
       "      <td>-0.407193</td>\n",
       "      <td>0.095921</td>\n",
       "      <td>0.592941</td>\n",
       "      <td>-0.270533</td>\n",
       "      <td>0.817739</td>\n",
       "      <td>...</td>\n",
       "      <td>-0.009431</td>\n",
       "      <td>0.798278</td>\n",
       "      <td>-0.137458</td>\n",
       "      <td>0.141267</td>\n",
       "      <td>-0.206010</td>\n",
       "      <td>0.502292</td>\n",
       "      <td>0.219422</td>\n",
       "      <td>0.215153</td>\n",
       "      <td>69.99</td>\n",
       "      <td>0</td>\n",
       "    </tr>\n",
       "  </tbody>\n",
       "</table>\n",
       "<p>5 rows × 31 columns</p>\n",
       "</div>"
      ],
      "text/plain": [
       "   Time        V1        V2        V3        V4        V5        V6        V7  \\\n",
       "0     0 -1.359807 -0.072781  2.536347  1.378155 -0.338321  0.462388  0.239599   \n",
       "1     0  1.191857  0.266151  0.166480  0.448154  0.060018 -0.082361 -0.078803   \n",
       "2     1 -1.358354 -1.340163  1.773209  0.379780 -0.503198  1.800499  0.791461   \n",
       "3     1 -0.966272 -0.185226  1.792993 -0.863291 -0.010309  1.247203  0.237609   \n",
       "4     2 -1.158233  0.877737  1.548718  0.403034 -0.407193  0.095921  0.592941   \n",
       "\n",
       "         V8        V9  ...       V21       V22       V23       V24       V25  \\\n",
       "0  0.098698  0.363787  ... -0.018307  0.277838 -0.110474  0.066928  0.128539   \n",
       "1  0.085102 -0.255425  ... -0.225775 -0.638672  0.101288 -0.339846  0.167170   \n",
       "2  0.247676 -1.514654  ...  0.247998  0.771679  0.909412 -0.689281 -0.327642   \n",
       "3  0.377436 -1.387024  ... -0.108300  0.005274 -0.190321 -1.175575  0.647376   \n",
       "4 -0.270533  0.817739  ... -0.009431  0.798278 -0.137458  0.141267 -0.206010   \n",
       "\n",
       "        V26       V27       V28  Amount  Class  \n",
       "0 -0.189115  0.133558 -0.021053  149.62      0  \n",
       "1  0.125895 -0.008983  0.014724    2.69      1  \n",
       "2 -0.139097 -0.055353 -0.059752  378.66      0  \n",
       "3 -0.221929  0.062723  0.061458  123.50      0  \n",
       "4  0.502292  0.219422  0.215153   69.99      0  \n",
       "\n",
       "[5 rows x 31 columns]"
      ]
     },
     "execution_count": 5,
     "metadata": {},
     "output_type": "execute_result"
    }
   ],
   "source": [
    "df.head()"
   ]
  },
  {
   "cell_type": "code",
   "execution_count": 6,
   "id": "0693f0ac-7e8e-4e0a-831a-0b442b1923d4",
   "metadata": {},
   "outputs": [
    {
     "name": "stdout",
     "output_type": "stream",
     "text": [
      "<class 'pandas.core.frame.DataFrame'>\n",
      "RangeIndex: 772 entries, 0 to 771\n",
      "Data columns (total 31 columns):\n",
      " #   Column  Non-Null Count  Dtype  \n",
      "---  ------  --------------  -----  \n",
      " 0   Time    772 non-null    int64  \n",
      " 1   V1      772 non-null    float64\n",
      " 2   V2      772 non-null    float64\n",
      " 3   V3      772 non-null    float64\n",
      " 4   V4      772 non-null    float64\n",
      " 5   V5      772 non-null    float64\n",
      " 6   V6      772 non-null    float64\n",
      " 7   V7      772 non-null    float64\n",
      " 8   V8      772 non-null    float64\n",
      " 9   V9      772 non-null    float64\n",
      " 10  V10     772 non-null    float64\n",
      " 11  V11     772 non-null    float64\n",
      " 12  V12     772 non-null    float64\n",
      " 13  V13     772 non-null    float64\n",
      " 14  V14     772 non-null    float64\n",
      " 15  V15     772 non-null    float64\n",
      " 16  V16     772 non-null    float64\n",
      " 17  V17     772 non-null    float64\n",
      " 18  V18     772 non-null    float64\n",
      " 19  V19     772 non-null    float64\n",
      " 20  V20     772 non-null    float64\n",
      " 21  V21     772 non-null    float64\n",
      " 22  V22     772 non-null    float64\n",
      " 23  V23     772 non-null    float64\n",
      " 24  V24     772 non-null    float64\n",
      " 25  V25     772 non-null    float64\n",
      " 26  V26     772 non-null    float64\n",
      " 27  V27     772 non-null    float64\n",
      " 28  V28     772 non-null    float64\n",
      " 29  Amount  772 non-null    float64\n",
      " 30  Class   772 non-null    int64  \n",
      "dtypes: float64(29), int64(2)\n",
      "memory usage: 187.1 KB\n"
     ]
    }
   ],
   "source": [
    "df.info()"
   ]
  },
  {
   "cell_type": "code",
   "execution_count": 7,
   "id": "95820f40-b653-4f36-831b-2e7529d15a6a",
   "metadata": {},
   "outputs": [
    {
     "data": {
      "text/plain": [
       "Time      0\n",
       "V1        0\n",
       "V2        0\n",
       "V3        0\n",
       "V4        0\n",
       "V5        0\n",
       "V6        0\n",
       "V7        0\n",
       "V8        0\n",
       "V9        0\n",
       "V10       0\n",
       "V11       0\n",
       "V12       0\n",
       "V13       0\n",
       "V14       0\n",
       "V15       0\n",
       "V16       0\n",
       "V17       0\n",
       "V18       0\n",
       "V19       0\n",
       "V20       0\n",
       "V21       0\n",
       "V22       0\n",
       "V23       0\n",
       "V24       0\n",
       "V25       0\n",
       "V26       0\n",
       "V27       0\n",
       "V28       0\n",
       "Amount    0\n",
       "Class     0\n",
       "dtype: int64"
      ]
     },
     "execution_count": 7,
     "metadata": {},
     "output_type": "execute_result"
    }
   ],
   "source": [
    "df.isnull().sum()"
   ]
  },
  {
   "cell_type": "code",
   "execution_count": 8,
   "id": "5528ed42-8bb8-4df8-8684-2555e41914e9",
   "metadata": {},
   "outputs": [
    {
     "data": {
      "text/plain": [
       "[]"
      ]
     },
     "execution_count": 8,
     "metadata": {},
     "output_type": "execute_result"
    }
   ],
   "source": [
    "categorical_cols = df.select_dtypes(include='object').columns.tolist()\n",
    "categorical_cols"
   ]
  },
  {
   "cell_type": "code",
   "execution_count": 9,
   "id": "b8cb3fad-8b7e-48af-bf4d-f9e7962e6c9b",
   "metadata": {},
   "outputs": [
    {
     "data": {
      "image/png": "[encoded data removed]",
      "text/plain": [
       "<Figure size 640x480 with 1 Axes>"
      ]
     },
     "metadata": {},
     "output_type": "display_data"
    }
   ],
   "source": [
    "import matplotlib.pyplot as plt\n",
    "\n",
    "df['Class'].value_counts().plot(kind='bar')\n",
    "plt.show()"
   ]
  },
  {
   "cell_type": "code",
   "execution_count": 10,
   "id": "775c9e43-3b28-42a6-a4d5-b227197948ca",
   "metadata": {},
   "outputs": [
    {
     "data": {
      "text/plain": [
       "Class\n",
       "0    763\n",
       "1      9\n",
       "Name: count, dtype: int64"
      ]
     },
     "execution_count": 10,
     "metadata": {},
     "output_type": "execute_result"
    }
   ],
   "source": [
    "freq_map = df['Class'].value_counts()\n",
    "freq_map"
   ]
  },
  {
   "cell_type": "code",
   "execution_count": 11,
   "id": "ad1ec048-2975-4d4a-887b-82dcd43d94c3",
   "metadata": {},
   "outputs": [
    {
     "data": {
      "text/html": [
       "<div>\n",
       "<style scoped>\n",
       "    .dataframe tbody tr th:only-of-type {\n",
       "        vertical-align: middle;\n",
       "    }\n",
       "\n",
       "    .dataframe tbody tr th {\n",
       "        vertical-align: top;\n",
       "    }\n",
       "\n",
       "    .dataframe thead th {\n",
       "        text-align: right;\n",
       "    }\n",
       "</style>\n",
       "<table border=\"1\" class=\"dataframe\">\n",
       "  <thead>\n",
       "    <tr style=\"text-align: right;\">\n",
       "      <th></th>\n",
       "      <th>Time</th>\n",
       "      <th>V1</th>\n",
       "      <th>V2</th>\n",
       "      <th>V3</th>\n",
       "      <th>V4</th>\n",
       "      <th>V5</th>\n",
       "      <th>V6</th>\n",
       "      <th>V7</th>\n",
       "      <th>V8</th>\n",
       "      <th>V9</th>\n",
       "      <th>...</th>\n",
       "      <th>V21</th>\n",
       "      <th>V22</th>\n",
       "      <th>V23</th>\n",
       "      <th>V24</th>\n",
       "      <th>V25</th>\n",
       "      <th>V26</th>\n",
       "      <th>V27</th>\n",
       "      <th>V28</th>\n",
       "      <th>Amount</th>\n",
       "      <th>Class</th>\n",
       "    </tr>\n",
       "  </thead>\n",
       "  <tbody>\n",
       "    <tr>\n",
       "      <th>count</th>\n",
       "      <td>772.000000</td>\n",
       "      <td>772.000000</td>\n",
       "      <td>772.000000</td>\n",
       "      <td>772.000000</td>\n",
       "      <td>772.000000</td>\n",
       "      <td>772.000000</td>\n",
       "      <td>772.000000</td>\n",
       "      <td>772.000000</td>\n",
       "      <td>772.000000</td>\n",
       "      <td>772.000000</td>\n",
       "      <td>...</td>\n",
       "      <td>772.000000</td>\n",
       "      <td>772.000000</td>\n",
       "      <td>772.000000</td>\n",
       "      <td>772.000000</td>\n",
       "      <td>772.000000</td>\n",
       "      <td>772.000000</td>\n",
       "      <td>772.000000</td>\n",
       "      <td>772.000000</td>\n",
       "      <td>772.000000</td>\n",
       "      <td>772.000000</td>\n",
       "    </tr>\n",
       "    <tr>\n",
       "      <th>mean</th>\n",
       "      <td>283.005181</td>\n",
       "      <td>-0.176963</td>\n",
       "      <td>0.217169</td>\n",
       "      <td>0.875172</td>\n",
       "      <td>0.285628</td>\n",
       "      <td>-0.005029</td>\n",
       "      <td>0.159081</td>\n",
       "      <td>0.123329</td>\n",
       "      <td>-0.057547</td>\n",
       "      <td>-0.030384</td>\n",
       "      <td>...</td>\n",
       "      <td>0.004888</td>\n",
       "      <td>-0.096995</td>\n",
       "      <td>-0.040344</td>\n",
       "      <td>-0.002501</td>\n",
       "      <td>0.114337</td>\n",
       "      <td>0.022782</td>\n",
       "      <td>0.023353</td>\n",
       "      <td>-0.017045</td>\n",
       "      <td>68.668290</td>\n",
       "      <td>0.011658</td>\n",
       "    </tr>\n",
       "    <tr>\n",
       "      <th>std</th>\n",
       "      <td>171.834196</td>\n",
       "      <td>1.294724</td>\n",
       "      <td>1.173401</td>\n",
       "      <td>1.031878</td>\n",
       "      <td>1.258758</td>\n",
       "      <td>1.098143</td>\n",
       "      <td>1.225682</td>\n",
       "      <td>0.852075</td>\n",
       "      <td>0.830144</td>\n",
       "      <td>0.878183</td>\n",
       "      <td>...</td>\n",
       "      <td>0.609335</td>\n",
       "      <td>0.607228</td>\n",
       "      <td>0.358724</td>\n",
       "      <td>0.621507</td>\n",
       "      <td>0.429667</td>\n",
       "      <td>0.484227</td>\n",
       "      <td>0.300934</td>\n",
       "      <td>0.278332</td>\n",
       "      <td>197.838269</td>\n",
       "      <td>0.107411</td>\n",
       "    </tr>\n",
       "    <tr>\n",
       "      <th>min</th>\n",
       "      <td>0.000000</td>\n",
       "      <td>-6.093248</td>\n",
       "      <td>-12.114213</td>\n",
       "      <td>-5.694973</td>\n",
       "      <td>-4.657545</td>\n",
       "      <td>-6.631951</td>\n",
       "      <td>-3.498447</td>\n",
       "      <td>-4.925568</td>\n",
       "      <td>-7.494658</td>\n",
       "      <td>-2.770089</td>\n",
       "      <td>...</td>\n",
       "      <td>-4.134608</td>\n",
       "      <td>-2.776923</td>\n",
       "      <td>-3.553381</td>\n",
       "      <td>-1.867208</td>\n",
       "      <td>-1.389079</td>\n",
       "      <td>-1.243924</td>\n",
       "      <td>-2.377933</td>\n",
       "      <td>-2.735623</td>\n",
       "      <td>0.000000</td>\n",
       "      <td>0.000000</td>\n",
       "    </tr>\n",
       "    <tr>\n",
       "      <th>25%</th>\n",
       "      <td>126.500000</td>\n",
       "      <td>-0.896416</td>\n",
       "      <td>-0.174684</td>\n",
       "      <td>0.308677</td>\n",
       "      <td>-0.460058</td>\n",
       "      <td>-0.534567</td>\n",
       "      <td>-0.630717</td>\n",
       "      <td>-0.296289</td>\n",
       "      <td>-0.167880</td>\n",
       "      <td>-0.517068</td>\n",
       "      <td>...</td>\n",
       "      <td>-0.213746</td>\n",
       "      <td>-0.525289</td>\n",
       "      <td>-0.176915</td>\n",
       "      <td>-0.379766</td>\n",
       "      <td>-0.166227</td>\n",
       "      <td>-0.313631</td>\n",
       "      <td>-0.047868</td>\n",
       "      <td>-0.033083</td>\n",
       "      <td>5.987500</td>\n",
       "      <td>0.000000</td>\n",
       "    </tr>\n",
       "    <tr>\n",
       "      <th>50%</th>\n",
       "      <td>282.000000</td>\n",
       "      <td>-0.382618</td>\n",
       "      <td>0.285843</td>\n",
       "      <td>0.905435</td>\n",
       "      <td>0.395919</td>\n",
       "      <td>-0.116612</td>\n",
       "      <td>-0.109581</td>\n",
       "      <td>0.116329</td>\n",
       "      <td>0.034755</td>\n",
       "      <td>-0.082270</td>\n",
       "      <td>...</td>\n",
       "      <td>-0.075802</td>\n",
       "      <td>-0.076551</td>\n",
       "      <td>-0.048353</td>\n",
       "      <td>0.091886</td>\n",
       "      <td>0.143723</td>\n",
       "      <td>-0.026414</td>\n",
       "      <td>0.023199</td>\n",
       "      <td>0.021034</td>\n",
       "      <td>16.665000</td>\n",
       "      <td>0.000000</td>\n",
       "    </tr>\n",
       "    <tr>\n",
       "      <th>75%</th>\n",
       "      <td>432.000000</td>\n",
       "      <td>1.110739</td>\n",
       "      <td>0.885745</td>\n",
       "      <td>1.532969</td>\n",
       "      <td>1.117559</td>\n",
       "      <td>0.452818</td>\n",
       "      <td>0.482972</td>\n",
       "      <td>0.575390</td>\n",
       "      <td>0.252395</td>\n",
       "      <td>0.412261</td>\n",
       "      <td>...</td>\n",
       "      <td>0.095149</td>\n",
       "      <td>0.307438</td>\n",
       "      <td>0.070085</td>\n",
       "      <td>0.426339</td>\n",
       "      <td>0.425798</td>\n",
       "      <td>0.260408</td>\n",
       "      <td>0.112199</td>\n",
       "      <td>0.087023</td>\n",
       "      <td>55.527500</td>\n",
       "      <td>0.000000</td>\n",
       "    </tr>\n",
       "    <tr>\n",
       "      <th>max</th>\n",
       "      <td>581.000000</td>\n",
       "      <td>1.586093</td>\n",
       "      <td>5.267376</td>\n",
       "      <td>3.772857</td>\n",
       "      <td>4.075817</td>\n",
       "      <td>7.672544</td>\n",
       "      <td>5.122103</td>\n",
       "      <td>4.808426</td>\n",
       "      <td>2.134599</td>\n",
       "      <td>5.459274</td>\n",
       "      <td>...</td>\n",
       "      <td>5.273420</td>\n",
       "      <td>1.574750</td>\n",
       "      <td>3.150413</td>\n",
       "      <td>1.215279</td>\n",
       "      <td>1.136720</td>\n",
       "      <td>3.087444</td>\n",
       "      <td>2.490503</td>\n",
       "      <td>1.575380</td>\n",
       "      <td>3828.040000</td>\n",
       "      <td>1.000000</td>\n",
       "    </tr>\n",
       "  </tbody>\n",
       "</table>\n",
       "<p>8 rows × 31 columns</p>\n",
       "</div>"
      ],
      "text/plain": [
       "             Time          V1          V2          V3          V4          V5  \\\n",
       "count  772.000000  772.000000  772.000000  772.000000  772.000000  772.000000   \n",
       "mean   283.005181   -0.176963    0.217169    0.875172    0.285628   -0.005029   \n",
       "std    171.834196    1.294724    1.173401    1.031878    1.258758    1.098143   \n",
       "min      0.000000   -6.093248  -12.114213   -5.694973   -4.657545   -6.631951   \n",
       "25%    126.500000   -0.896416   -0.174684    0.308677   -0.460058   -0.534567   \n",
       "50%    282.000000   -0.382618    0.285843    0.905435    0.395919   -0.116612   \n",
       "75%    432.000000    1.110739    0.885745    1.532969    1.117559    0.452818   \n",
       "max    581.000000    1.586093    5.267376    3.772857    4.075817    7.672544   \n",
       "\n",
       "               V6          V7          V8          V9  ...         V21  \\\n",
       "count  772.000000  772.000000  772.000000  772.000000  ...  772.000000   \n",
       "mean     0.159081    0.123329   -0.057547   -0.030384  ...    0.004888   \n",
       "std      1.225682    0.852075    0.830144    0.878183  ...    0.609335   \n",
       "min     -3.498447   -4.925568   -7.494658   -2.770089  ...   -4.134608   \n",
       "25%     -0.630717   -0.296289   -0.167880   -0.517068  ...   -0.213746   \n",
       "50%     -0.109581    0.116329    0.034755   -0.082270  ...   -0.075802   \n",
       "75%      0.482972    0.575390    0.252395    0.412261  ...    0.095149   \n",
       "max      5.122103    4.808426    2.134599    5.459274  ...    5.273420   \n",
       "\n",
       "              V22         V23         V24         V25         V26         V27  \\\n",
       "count  772.000000  772.000000  772.000000  772.000000  772.000000  772.000000   \n",
       "mean    -0.096995   -0.040344   -0.002501    0.114337    0.022782    0.023353   \n",
       "std      0.607228    0.358724    0.621507    0.429667    0.484227    0.300934   \n",
       "min     -2.776923   -3.553381   -1.867208   -1.389079   -1.243924   -2.377933   \n",
       "25%     -0.525289   -0.176915   -0.379766   -0.166227   -0.313631   -0.047868   \n",
       "50%     -0.076551   -0.048353    0.091886    0.143723   -0.026414    0.023199   \n",
       "75%      0.307438    0.070085    0.426339    0.425798    0.260408    0.112199   \n",
       "max      1.574750    3.150413    1.215279    1.136720    3.087444    2.490503   \n",
       "\n",
       "              V28       Amount       Class  \n",
       "count  772.000000   772.000000  772.000000  \n",
       "mean    -0.017045    68.668290    0.011658  \n",
       "std      0.278332   197.838269    0.107411  \n",
       "min     -2.735623     0.000000    0.000000  \n",
       "25%     -0.033083     5.987500    0.000000  \n",
       "50%      0.021034    16.665000    0.000000  \n",
       "75%      0.087023    55.527500    0.000000  \n",
       "max      1.575380  3828.040000    1.000000  \n",
       "\n",
       "[8 rows x 31 columns]"
      ]
     },
     "execution_count": 11,
     "metadata": {},
     "output_type": "execute_result"
    }
   ],
   "source": [
    "df.describe()"
   ]
  },
  {
   "cell_type": "code",
   "execution_count": 12,
   "id": "e7d4e9a9-fde1-47e2-aa2c-daa77ab4f277",
   "metadata": {},
   "outputs": [],
   "source": [
    "X = df.drop('Class', axis = 1)\n",
    "y = df['Class']"
   ]
  },
  {
   "cell_type": "markdown",
   "id": "c78094b0-d7f1-4e11-b2d1-da8d6793ca6a",
   "metadata": {},
   "source": [
    "# Applying oversampling to the given dataset to create a balanced data"
   ]
  },
  {
   "cell_type": "code",
   "execution_count": 13,
   "id": "aea4af31-3dd6-4a85-8f7e-354454efc60c",
   "metadata": {},
   "outputs": [
    {
     "data": {
      "text/html": [
       "<div>\n",
       "<style scoped>\n",
       "    .dataframe tbody tr th:only-of-type {\n",
       "        vertical-align: middle;\n",
       "    }\n",
       "\n",
       "    .dataframe tbody tr th {\n",
       "        vertical-align: top;\n",
       "    }\n",
       "\n",
       "    .dataframe thead th {\n",
       "        text-align: right;\n",
       "    }\n",
       "</style>\n",
       "<table border=\"1\" class=\"dataframe\">\n",
       "  <thead>\n",
       "    <tr style=\"text-align: right;\">\n",
       "      <th></th>\n",
       "      <th>Time</th>\n",
       "      <th>V1</th>\n",
       "      <th>V2</th>\n",
       "      <th>V3</th>\n",
       "      <th>V4</th>\n",
       "      <th>V5</th>\n",
       "      <th>V6</th>\n",
       "      <th>V7</th>\n",
       "      <th>V8</th>\n",
       "      <th>V9</th>\n",
       "      <th>...</th>\n",
       "      <th>V21</th>\n",
       "      <th>V22</th>\n",
       "      <th>V23</th>\n",
       "      <th>V24</th>\n",
       "      <th>V25</th>\n",
       "      <th>V26</th>\n",
       "      <th>V27</th>\n",
       "      <th>V28</th>\n",
       "      <th>Amount</th>\n",
       "      <th>Class</th>\n",
       "    </tr>\n",
       "  </thead>\n",
       "  <tbody>\n",
       "    <tr>\n",
       "      <th>0</th>\n",
       "      <td>0</td>\n",
       "      <td>-1.359807</td>\n",
       "      <td>-0.072781</td>\n",
       "      <td>2.536347</td>\n",
       "      <td>1.378155</td>\n",
       "      <td>-0.338321</td>\n",
       "      <td>0.462388</td>\n",
       "      <td>0.239599</td>\n",
       "      <td>0.098698</td>\n",
       "      <td>0.363787</td>\n",
       "      <td>...</td>\n",
       "      <td>-0.018307</td>\n",
       "      <td>0.277838</td>\n",
       "      <td>-0.110474</td>\n",
       "      <td>0.066928</td>\n",
       "      <td>0.128539</td>\n",
       "      <td>-0.189115</td>\n",
       "      <td>0.133558</td>\n",
       "      <td>-0.021053</td>\n",
       "      <td>149.620000</td>\n",
       "      <td>0</td>\n",
       "    </tr>\n",
       "    <tr>\n",
       "      <th>1</th>\n",
       "      <td>0</td>\n",
       "      <td>1.191857</td>\n",
       "      <td>0.266151</td>\n",
       "      <td>0.166480</td>\n",
       "      <td>0.448154</td>\n",
       "      <td>0.060018</td>\n",
       "      <td>-0.082361</td>\n",
       "      <td>-0.078803</td>\n",
       "      <td>0.085102</td>\n",
       "      <td>-0.255425</td>\n",
       "      <td>...</td>\n",
       "      <td>-0.225775</td>\n",
       "      <td>-0.638672</td>\n",
       "      <td>0.101288</td>\n",
       "      <td>-0.339846</td>\n",
       "      <td>0.167170</td>\n",
       "      <td>0.125895</td>\n",
       "      <td>-0.008983</td>\n",
       "      <td>0.014724</td>\n",
       "      <td>2.690000</td>\n",
       "      <td>1</td>\n",
       "    </tr>\n",
       "    <tr>\n",
       "      <th>2</th>\n",
       "      <td>1</td>\n",
       "      <td>-1.358354</td>\n",
       "      <td>-1.340163</td>\n",
       "      <td>1.773209</td>\n",
       "      <td>0.379780</td>\n",
       "      <td>-0.503198</td>\n",
       "      <td>1.800499</td>\n",
       "      <td>0.791461</td>\n",
       "      <td>0.247676</td>\n",
       "      <td>-1.514654</td>\n",
       "      <td>...</td>\n",
       "      <td>0.247998</td>\n",
       "      <td>0.771679</td>\n",
       "      <td>0.909412</td>\n",
       "      <td>-0.689281</td>\n",
       "      <td>-0.327642</td>\n",
       "      <td>-0.139097</td>\n",
       "      <td>-0.055353</td>\n",
       "      <td>-0.059752</td>\n",
       "      <td>378.660000</td>\n",
       "      <td>0</td>\n",
       "    </tr>\n",
       "    <tr>\n",
       "      <th>3</th>\n",
       "      <td>1</td>\n",
       "      <td>-0.966272</td>\n",
       "      <td>-0.185226</td>\n",
       "      <td>1.792993</td>\n",
       "      <td>-0.863291</td>\n",
       "      <td>-0.010309</td>\n",
       "      <td>1.247203</td>\n",
       "      <td>0.237609</td>\n",
       "      <td>0.377436</td>\n",
       "      <td>-1.387024</td>\n",
       "      <td>...</td>\n",
       "      <td>-0.108300</td>\n",
       "      <td>0.005274</td>\n",
       "      <td>-0.190321</td>\n",
       "      <td>-1.175575</td>\n",
       "      <td>0.647376</td>\n",
       "      <td>-0.221929</td>\n",
       "      <td>0.062723</td>\n",
       "      <td>0.061458</td>\n",
       "      <td>123.500000</td>\n",
       "      <td>0</td>\n",
       "    </tr>\n",
       "    <tr>\n",
       "      <th>4</th>\n",
       "      <td>2</td>\n",
       "      <td>-1.158233</td>\n",
       "      <td>0.877737</td>\n",
       "      <td>1.548718</td>\n",
       "      <td>0.403034</td>\n",
       "      <td>-0.407193</td>\n",
       "      <td>0.095921</td>\n",
       "      <td>0.592941</td>\n",
       "      <td>-0.270533</td>\n",
       "      <td>0.817739</td>\n",
       "      <td>...</td>\n",
       "      <td>-0.009431</td>\n",
       "      <td>0.798278</td>\n",
       "      <td>-0.137458</td>\n",
       "      <td>0.141267</td>\n",
       "      <td>-0.206010</td>\n",
       "      <td>0.502292</td>\n",
       "      <td>0.219422</td>\n",
       "      <td>0.215153</td>\n",
       "      <td>69.990000</td>\n",
       "      <td>0</td>\n",
       "    </tr>\n",
       "    <tr>\n",
       "      <th>...</th>\n",
       "      <td>...</td>\n",
       "      <td>...</td>\n",
       "      <td>...</td>\n",
       "      <td>...</td>\n",
       "      <td>...</td>\n",
       "      <td>...</td>\n",
       "      <td>...</td>\n",
       "      <td>...</td>\n",
       "      <td>...</td>\n",
       "      <td>...</td>\n",
       "      <td>...</td>\n",
       "      <td>...</td>\n",
       "      <td>...</td>\n",
       "      <td>...</td>\n",
       "      <td>...</td>\n",
       "      <td>...</td>\n",
       "      <td>...</td>\n",
       "      <td>...</td>\n",
       "      <td>...</td>\n",
       "      <td>...</td>\n",
       "      <td>...</td>\n",
       "    </tr>\n",
       "    <tr>\n",
       "      <th>1521</th>\n",
       "      <td>487</td>\n",
       "      <td>-1.007106</td>\n",
       "      <td>0.184993</td>\n",
       "      <td>1.794623</td>\n",
       "      <td>0.253211</td>\n",
       "      <td>1.076582</td>\n",
       "      <td>-0.790835</td>\n",
       "      <td>0.658778</td>\n",
       "      <td>-0.086969</td>\n",
       "      <td>-0.061003</td>\n",
       "      <td>...</td>\n",
       "      <td>0.092590</td>\n",
       "      <td>0.348720</td>\n",
       "      <td>-0.217016</td>\n",
       "      <td>0.293840</td>\n",
       "      <td>0.346141</td>\n",
       "      <td>-0.356976</td>\n",
       "      <td>-0.105934</td>\n",
       "      <td>-0.129103</td>\n",
       "      <td>1.036839</td>\n",
       "      <td>1</td>\n",
       "    </tr>\n",
       "    <tr>\n",
       "      <th>1522</th>\n",
       "      <td>198</td>\n",
       "      <td>-0.265336</td>\n",
       "      <td>0.750004</td>\n",
       "      <td>0.159072</td>\n",
       "      <td>0.666439</td>\n",
       "      <td>0.631904</td>\n",
       "      <td>0.013159</td>\n",
       "      <td>-0.106138</td>\n",
       "      <td>0.317335</td>\n",
       "      <td>-0.498996</td>\n",
       "      <td>...</td>\n",
       "      <td>-0.037011</td>\n",
       "      <td>-0.332666</td>\n",
       "      <td>0.063493</td>\n",
       "      <td>-1.124774</td>\n",
       "      <td>-1.185472</td>\n",
       "      <td>0.089960</td>\n",
       "      <td>0.235924</td>\n",
       "      <td>0.177132</td>\n",
       "      <td>0.849395</td>\n",
       "      <td>1</td>\n",
       "    </tr>\n",
       "    <tr>\n",
       "      <th>1523</th>\n",
       "      <td>234</td>\n",
       "      <td>-0.623389</td>\n",
       "      <td>0.960263</td>\n",
       "      <td>-0.150358</td>\n",
       "      <td>1.249198</td>\n",
       "      <td>0.430024</td>\n",
       "      <td>-0.238682</td>\n",
       "      <td>-0.531426</td>\n",
       "      <td>0.505261</td>\n",
       "      <td>-0.896268</td>\n",
       "      <td>...</td>\n",
       "      <td>0.059940</td>\n",
       "      <td>-0.280605</td>\n",
       "      <td>-0.028991</td>\n",
       "      <td>-0.872011</td>\n",
       "      <td>-0.970315</td>\n",
       "      <td>0.105332</td>\n",
       "      <td>0.240336</td>\n",
       "      <td>0.121085</td>\n",
       "      <td>0.700814</td>\n",
       "      <td>1</td>\n",
       "    </tr>\n",
       "    <tr>\n",
       "      <th>1524</th>\n",
       "      <td>449</td>\n",
       "      <td>-1.381332</td>\n",
       "      <td>1.538102</td>\n",
       "      <td>-1.110036</td>\n",
       "      <td>3.135507</td>\n",
       "      <td>-0.479320</td>\n",
       "      <td>-1.332916</td>\n",
       "      <td>-1.851159</td>\n",
       "      <td>0.973933</td>\n",
       "      <td>-2.043995</td>\n",
       "      <td>...</td>\n",
       "      <td>0.307559</td>\n",
       "      <td>-0.239904</td>\n",
       "      <td>-0.310614</td>\n",
       "      <td>0.326177</td>\n",
       "      <td>0.090569</td>\n",
       "      <td>0.156080</td>\n",
       "      <td>0.187263</td>\n",
       "      <td>-0.097847</td>\n",
       "      <td>0.336379</td>\n",
       "      <td>1</td>\n",
       "    </tr>\n",
       "    <tr>\n",
       "      <th>1525</th>\n",
       "      <td>141</td>\n",
       "      <td>-0.028414</td>\n",
       "      <td>0.853233</td>\n",
       "      <td>-0.452114</td>\n",
       "      <td>1.684329</td>\n",
       "      <td>-0.142731</td>\n",
       "      <td>-0.550463</td>\n",
       "      <td>-0.934987</td>\n",
       "      <td>0.540100</td>\n",
       "      <td>-1.131139</td>\n",
       "      <td>...</td>\n",
       "      <td>0.032972</td>\n",
       "      <td>-0.428465</td>\n",
       "      <td>-0.095991</td>\n",
       "      <td>-0.109991</td>\n",
       "      <td>0.124458</td>\n",
       "      <td>0.143984</td>\n",
       "      <td>0.085087</td>\n",
       "      <td>-0.040298</td>\n",
       "      <td>1.753227</td>\n",
       "      <td>1</td>\n",
       "    </tr>\n",
       "  </tbody>\n",
       "</table>\n",
       "<p>1526 rows × 31 columns</p>\n",
       "</div>"
      ],
      "text/plain": [
       "      Time        V1        V2        V3        V4        V5        V6  \\\n",
       "0        0 -1.359807 -0.072781  2.536347  1.378155 -0.338321  0.462388   \n",
       "1        0  1.191857  0.266151  0.166480  0.448154  0.060018 -0.082361   \n",
       "2        1 -1.358354 -1.340163  1.773209  0.379780 -0.503198  1.800499   \n",
       "3        1 -0.966272 -0.185226  1.792993 -0.863291 -0.010309  1.247203   \n",
       "4        2 -1.158233  0.877737  1.548718  0.403034 -0.407193  0.095921   \n",
       "...    ...       ...       ...       ...       ...       ...       ...   \n",
       "1521   487 -1.007106  0.184993  1.794623  0.253211  1.076582 -0.790835   \n",
       "1522   198 -0.265336  0.750004  0.159072  0.666439  0.631904  0.013159   \n",
       "1523   234 -0.623389  0.960263 -0.150358  1.249198  0.430024 -0.238682   \n",
       "1524   449 -1.381332  1.538102 -1.110036  3.135507 -0.479320 -1.332916   \n",
       "1525   141 -0.028414  0.853233 -0.452114  1.684329 -0.142731 -0.550463   \n",
       "\n",
       "            V7        V8        V9  ...       V21       V22       V23  \\\n",
       "0     0.239599  0.098698  0.363787  ... -0.018307  0.277838 -0.110474   \n",
       "1    -0.078803  0.085102 -0.255425  ... -0.225775 -0.638672  0.101288   \n",
       "2     0.791461  0.247676 -1.514654  ...  0.247998  0.771679  0.909412   \n",
       "3     0.237609  0.377436 -1.387024  ... -0.108300  0.005274 -0.190321   \n",
       "4     0.592941 -0.270533  0.817739  ... -0.009431  0.798278 -0.137458   \n",
       "...        ...       ...       ...  ...       ...       ...       ...   \n",
       "1521  0.658778 -0.086969 -0.061003  ...  0.092590  0.348720 -0.217016   \n",
       "1522 -0.106138  0.317335 -0.498996  ... -0.037011 -0.332666  0.063493   \n",
       "1523 -0.531426  0.505261 -0.896268  ...  0.059940 -0.280605 -0.028991   \n",
       "1524 -1.851159  0.973933 -2.043995  ...  0.307559 -0.239904 -0.310614   \n",
       "1525 -0.934987  0.540100 -1.131139  ...  0.032972 -0.428465 -0.095991   \n",
       "\n",
       "           V24       V25       V26       V27       V28      Amount  Class  \n",
       "0     0.066928  0.128539 -0.189115  0.133558 -0.021053  149.620000      0  \n",
       "1    -0.339846  0.167170  0.125895 -0.008983  0.014724    2.690000      1  \n",
       "2    -0.689281 -0.327642 -0.139097 -0.055353 -0.059752  378.660000      0  \n",
       "3    -1.175575  0.647376 -0.221929  0.062723  0.061458  123.500000      0  \n",
       "4     0.141267 -0.206010  0.502292  0.219422  0.215153   69.990000      0  \n",
       "...        ...       ...       ...       ...       ...         ...    ...  \n",
       "1521  0.293840  0.346141 -0.356976 -0.105934 -0.129103    1.036839      1  \n",
       "1522 -1.124774 -1.185472  0.089960  0.235924  0.177132    0.849395      1  \n",
       "1523 -0.872011 -0.970315  0.105332  0.240336  0.121085    0.700814      1  \n",
       "1524  0.326177  0.090569  0.156080  0.187263 -0.097847    0.336379      1  \n",
       "1525 -0.109991  0.124458  0.143984  0.085087 -0.040298    1.753227      1  \n",
       "\n",
       "[1526 rows x 31 columns]"
      ]
     },
     "execution_count": 13,
     "metadata": {},
     "output_type": "execute_result"
    }
   ],
   "source": [
    "from imblearn.over_sampling import SMOTE\n",
    "\n",
    "X_resampled, y_resampled = SMOTE().fit_resample(X, y)\n",
    "df_resampled = X_resampled.join(y_resampled)\n",
    "df_resampled"
   ]
  },
  {
   "cell_type": "markdown",
   "id": "6612293b-5d22-440c-a0b5-0deeb334110e",
   "metadata": {},
   "source": [
    "# Calculating size of sample"
   ]
  },
  {
   "cell_type": "code",
   "execution_count": 14,
   "id": "90a0f760-4422-488b-a545-c94e984014c6",
   "metadata": {},
   "outputs": [
    {
     "data": {
      "text/plain": [
       "385"
      ]
     },
     "execution_count": 14,
     "metadata": {},
     "output_type": "execute_result"
    }
   ],
   "source": [
    "import math\n",
    "\n",
    "population_size = X_resampled.shape[0]\n",
    "\n",
    "sample_size = 1.96**2*0.5*0.5/0.05**2\n",
    "sample_size = math.ceil(sample_size)\n",
    "sample_size"
   ]
  },
  {
   "cell_type": "markdown",
   "id": "49ecf1d2-40c1-4277-b8d1-05deec39e48c",
   "metadata": {},
   "source": [
    "# Creating samples"
   ]
  },
  {
   "cell_type": "markdown",
   "id": "8d8b0ffc-ebcc-446b-92cd-81a3896d86e8",
   "metadata": {},
   "source": [
    "## Simple Random Sampling"
   ]
  },
  {
   "cell_type": "code",
   "execution_count": 15,
   "id": "34e25665-0b84-470f-95c6-8b3c50ed7c6d",
   "metadata": {},
   "outputs": [
    {
     "data": {
      "text/html": [
       "<div>\n",
       "<style scoped>\n",
       "    .dataframe tbody tr th:only-of-type {\n",
       "        vertical-align: middle;\n",
       "    }\n",
       "\n",
       "    .dataframe tbody tr th {\n",
       "        vertical-align: top;\n",
       "    }\n",
       "\n",
       "    .dataframe thead th {\n",
       "        text-align: right;\n",
       "    }\n",
       "</style>\n",
       "<table border=\"1\" class=\"dataframe\">\n",
       "  <thead>\n",
       "    <tr style=\"text-align: right;\">\n",
       "      <th></th>\n",
       "      <th>Time</th>\n",
       "      <th>V1</th>\n",
       "      <th>V2</th>\n",
       "      <th>V3</th>\n",
       "      <th>V4</th>\n",
       "      <th>V5</th>\n",
       "      <th>V6</th>\n",
       "      <th>V7</th>\n",
       "      <th>V8</th>\n",
       "      <th>V9</th>\n",
       "      <th>...</th>\n",
       "      <th>V21</th>\n",
       "      <th>V22</th>\n",
       "      <th>V23</th>\n",
       "      <th>V24</th>\n",
       "      <th>V25</th>\n",
       "      <th>V26</th>\n",
       "      <th>V27</th>\n",
       "      <th>V28</th>\n",
       "      <th>Amount</th>\n",
       "      <th>Class</th>\n",
       "    </tr>\n",
       "  </thead>\n",
       "  <tbody>\n",
       "    <tr>\n",
       "      <th>1439</th>\n",
       "      <td>315</td>\n",
       "      <td>-0.789093</td>\n",
       "      <td>-0.715994</td>\n",
       "      <td>1.290024</td>\n",
       "      <td>0.541292</td>\n",
       "      <td>1.504623</td>\n",
       "      <td>0.394041</td>\n",
       "      <td>-0.704530</td>\n",
       "      <td>0.409350</td>\n",
       "      <td>0.326888</td>\n",
       "      <td>...</td>\n",
       "      <td>0.100487</td>\n",
       "      <td>0.274068</td>\n",
       "      <td>0.212075</td>\n",
       "      <td>-1.153166</td>\n",
       "      <td>-0.902585</td>\n",
       "      <td>0.402141</td>\n",
       "      <td>0.083537</td>\n",
       "      <td>0.063301</td>\n",
       "      <td>1.202106</td>\n",
       "      <td>1</td>\n",
       "    </tr>\n",
       "    <tr>\n",
       "      <th>76</th>\n",
       "      <td>49</td>\n",
       "      <td>-0.549626</td>\n",
       "      <td>0.418949</td>\n",
       "      <td>1.729833</td>\n",
       "      <td>0.203065</td>\n",
       "      <td>-0.187012</td>\n",
       "      <td>0.253878</td>\n",
       "      <td>0.500894</td>\n",
       "      <td>0.251256</td>\n",
       "      <td>-0.227985</td>\n",
       "      <td>...</td>\n",
       "      <td>0.115062</td>\n",
       "      <td>0.418529</td>\n",
       "      <td>-0.065133</td>\n",
       "      <td>0.264981</td>\n",
       "      <td>0.003958</td>\n",
       "      <td>0.395969</td>\n",
       "      <td>0.027182</td>\n",
       "      <td>0.043506</td>\n",
       "      <td>59.990000</td>\n",
       "      <td>0</td>\n",
       "    </tr>\n",
       "    <tr>\n",
       "      <th>1010</th>\n",
       "      <td>239</td>\n",
       "      <td>-0.163939</td>\n",
       "      <td>0.514801</td>\n",
       "      <td>0.757518</td>\n",
       "      <td>0.131015</td>\n",
       "      <td>0.856950</td>\n",
       "      <td>-0.021728</td>\n",
       "      <td>0.434453</td>\n",
       "      <td>0.069307</td>\n",
       "      <td>-0.127570</td>\n",
       "      <td>...</td>\n",
       "      <td>-0.082505</td>\n",
       "      <td>-0.224688</td>\n",
       "      <td>0.054059</td>\n",
       "      <td>-0.949266</td>\n",
       "      <td>-0.967066</td>\n",
       "      <td>-0.050056</td>\n",
       "      <td>0.152051</td>\n",
       "      <td>0.145793</td>\n",
       "      <td>0.992371</td>\n",
       "      <td>1</td>\n",
       "    </tr>\n",
       "    <tr>\n",
       "      <th>660</th>\n",
       "      <td>499</td>\n",
       "      <td>1.255439</td>\n",
       "      <td>0.307729</td>\n",
       "      <td>0.292700</td>\n",
       "      <td>0.699873</td>\n",
       "      <td>-0.428876</td>\n",
       "      <td>-1.088456</td>\n",
       "      <td>0.043840</td>\n",
       "      <td>-0.167739</td>\n",
       "      <td>0.128854</td>\n",
       "      <td>...</td>\n",
       "      <td>-0.294795</td>\n",
       "      <td>-0.882126</td>\n",
       "      <td>0.136846</td>\n",
       "      <td>0.327949</td>\n",
       "      <td>0.194459</td>\n",
       "      <td>0.096516</td>\n",
       "      <td>-0.027271</td>\n",
       "      <td>0.029491</td>\n",
       "      <td>1.980000</td>\n",
       "      <td>0</td>\n",
       "    </tr>\n",
       "    <tr>\n",
       "      <th>1132</th>\n",
       "      <td>525</td>\n",
       "      <td>-1.928936</td>\n",
       "      <td>-2.302213</td>\n",
       "      <td>2.418658</td>\n",
       "      <td>1.076109</td>\n",
       "      <td>2.362116</td>\n",
       "      <td>0.494392</td>\n",
       "      <td>-1.910531</td>\n",
       "      <td>0.725234</td>\n",
       "      <td>0.885278</td>\n",
       "      <td>...</td>\n",
       "      <td>0.398668</td>\n",
       "      <td>1.134346</td>\n",
       "      <td>0.260714</td>\n",
       "      <td>-0.774118</td>\n",
       "      <td>-0.178550</td>\n",
       "      <td>0.773197</td>\n",
       "      <td>-0.123275</td>\n",
       "      <td>-0.168035</td>\n",
       "      <td>1.466605</td>\n",
       "      <td>1</td>\n",
       "    </tr>\n",
       "  </tbody>\n",
       "</table>\n",
       "<p>5 rows × 31 columns</p>\n",
       "</div>"
      ],
      "text/plain": [
       "      Time        V1        V2        V3        V4        V5        V6  \\\n",
       "1439   315 -0.789093 -0.715994  1.290024  0.541292  1.504623  0.394041   \n",
       "76      49 -0.549626  0.418949  1.729833  0.203065 -0.187012  0.253878   \n",
       "1010   239 -0.163939  0.514801  0.757518  0.131015  0.856950 -0.021728   \n",
       "660    499  1.255439  0.307729  0.292700  0.699873 -0.428876 -1.088456   \n",
       "1132   525 -1.928936 -2.302213  2.418658  1.076109  2.362116  0.494392   \n",
       "\n",
       "            V7        V8        V9  ...       V21       V22       V23  \\\n",
       "1439 -0.704530  0.409350  0.326888  ...  0.100487  0.274068  0.212075   \n",
       "76    0.500894  0.251256 -0.227985  ...  0.115062  0.418529 -0.065133   \n",
       "1010  0.434453  0.069307 -0.127570  ... -0.082505 -0.224688  0.054059   \n",
       "660   0.043840 -0.167739  0.128854  ... -0.294795 -0.882126  0.136846   \n",
       "1132 -1.910531  0.725234  0.885278  ...  0.398668  1.134346  0.260714   \n",
       "\n",
       "           V24       V25       V26       V27       V28     Amount  Class  \n",
       "1439 -1.153166 -0.902585  0.402141  0.083537  0.063301   1.202106      1  \n",
       "76    0.264981  0.003958  0.395969  0.027182  0.043506  59.990000      0  \n",
       "1010 -0.949266 -0.967066 -0.050056  0.152051  0.145793   0.992371      1  \n",
       "660   0.327949  0.194459  0.096516 -0.027271  0.029491   1.980000      0  \n",
       "1132 -0.774118 -0.178550  0.773197 -0.123275 -0.168035   1.466605      1  \n",
       "\n",
       "[5 rows x 31 columns]"
      ]
     },
     "execution_count": 15,
     "metadata": {},
     "output_type": "execute_result"
    }
   ],
   "source": [
    "df_random_sample = df_resampled.sample(n = sample_size, random_state = 42)\n",
    "df_random_sample.head()"
   ]
  },
  {
   "cell_type": "markdown",
   "id": "34b9e3ef-1063-4ae4-b0dc-da95a26e73df",
   "metadata": {},
   "source": [
    "## Systematic Random Sampling"
   ]
  },
  {
   "cell_type": "code",
   "execution_count": 16,
   "id": "8ea760ed-a168-4502-8978-e0698d03bf1d",
   "metadata": {},
   "outputs": [
    {
     "data": {
      "text/html": [
       "<div>\n",
       "<style scoped>\n",
       "    .dataframe tbody tr th:only-of-type {\n",
       "        vertical-align: middle;\n",
       "    }\n",
       "\n",
       "    .dataframe tbody tr th {\n",
       "        vertical-align: top;\n",
       "    }\n",
       "\n",
       "    .dataframe thead th {\n",
       "        text-align: right;\n",
       "    }\n",
       "</style>\n",
       "<table border=\"1\" class=\"dataframe\">\n",
       "  <thead>\n",
       "    <tr style=\"text-align: right;\">\n",
       "      <th></th>\n",
       "      <th>Time</th>\n",
       "      <th>V1</th>\n",
       "      <th>V2</th>\n",
       "      <th>V3</th>\n",
       "      <th>V4</th>\n",
       "      <th>V5</th>\n",
       "      <th>V6</th>\n",
       "      <th>V7</th>\n",
       "      <th>V8</th>\n",
       "      <th>V9</th>\n",
       "      <th>...</th>\n",
       "      <th>V21</th>\n",
       "      <th>V22</th>\n",
       "      <th>V23</th>\n",
       "      <th>V24</th>\n",
       "      <th>V25</th>\n",
       "      <th>V26</th>\n",
       "      <th>V27</th>\n",
       "      <th>V28</th>\n",
       "      <th>Amount</th>\n",
       "      <th>Class</th>\n",
       "    </tr>\n",
       "  </thead>\n",
       "  <tbody>\n",
       "    <tr>\n",
       "      <th>0</th>\n",
       "      <td>0</td>\n",
       "      <td>-1.359807</td>\n",
       "      <td>-0.072781</td>\n",
       "      <td>2.536347</td>\n",
       "      <td>1.378155</td>\n",
       "      <td>-0.338321</td>\n",
       "      <td>0.462388</td>\n",
       "      <td>0.239599</td>\n",
       "      <td>0.098698</td>\n",
       "      <td>0.363787</td>\n",
       "      <td>...</td>\n",
       "      <td>-0.018307</td>\n",
       "      <td>0.277838</td>\n",
       "      <td>-0.110474</td>\n",
       "      <td>0.066928</td>\n",
       "      <td>0.128539</td>\n",
       "      <td>-0.189115</td>\n",
       "      <td>0.133558</td>\n",
       "      <td>-0.021053</td>\n",
       "      <td>149.62</td>\n",
       "      <td>0</td>\n",
       "    </tr>\n",
       "    <tr>\n",
       "      <th>3</th>\n",
       "      <td>1</td>\n",
       "      <td>-0.966272</td>\n",
       "      <td>-0.185226</td>\n",
       "      <td>1.792993</td>\n",
       "      <td>-0.863291</td>\n",
       "      <td>-0.010309</td>\n",
       "      <td>1.247203</td>\n",
       "      <td>0.237609</td>\n",
       "      <td>0.377436</td>\n",
       "      <td>-1.387024</td>\n",
       "      <td>...</td>\n",
       "      <td>-0.108300</td>\n",
       "      <td>0.005274</td>\n",
       "      <td>-0.190321</td>\n",
       "      <td>-1.175575</td>\n",
       "      <td>0.647376</td>\n",
       "      <td>-0.221929</td>\n",
       "      <td>0.062723</td>\n",
       "      <td>0.061458</td>\n",
       "      <td>123.50</td>\n",
       "      <td>0</td>\n",
       "    </tr>\n",
       "    <tr>\n",
       "      <th>6</th>\n",
       "      <td>4</td>\n",
       "      <td>1.229658</td>\n",
       "      <td>0.141004</td>\n",
       "      <td>0.045371</td>\n",
       "      <td>1.202613</td>\n",
       "      <td>0.191881</td>\n",
       "      <td>0.272708</td>\n",
       "      <td>-0.005159</td>\n",
       "      <td>0.081213</td>\n",
       "      <td>0.464960</td>\n",
       "      <td>...</td>\n",
       "      <td>-0.167716</td>\n",
       "      <td>-0.270710</td>\n",
       "      <td>-0.154104</td>\n",
       "      <td>-0.780055</td>\n",
       "      <td>0.750137</td>\n",
       "      <td>-0.257237</td>\n",
       "      <td>0.034507</td>\n",
       "      <td>0.005168</td>\n",
       "      <td>4.99</td>\n",
       "      <td>0</td>\n",
       "    </tr>\n",
       "    <tr>\n",
       "      <th>9</th>\n",
       "      <td>9</td>\n",
       "      <td>-0.338262</td>\n",
       "      <td>1.119593</td>\n",
       "      <td>1.044367</td>\n",
       "      <td>-0.222187</td>\n",
       "      <td>0.499361</td>\n",
       "      <td>-0.246761</td>\n",
       "      <td>0.651583</td>\n",
       "      <td>0.069539</td>\n",
       "      <td>-0.736727</td>\n",
       "      <td>...</td>\n",
       "      <td>-0.246914</td>\n",
       "      <td>-0.633753</td>\n",
       "      <td>-0.120794</td>\n",
       "      <td>-0.385050</td>\n",
       "      <td>-0.069733</td>\n",
       "      <td>0.094199</td>\n",
       "      <td>0.246219</td>\n",
       "      <td>0.083076</td>\n",
       "      <td>3.68</td>\n",
       "      <td>0</td>\n",
       "    </tr>\n",
       "    <tr>\n",
       "      <th>12</th>\n",
       "      <td>10</td>\n",
       "      <td>1.249999</td>\n",
       "      <td>-1.221637</td>\n",
       "      <td>0.383930</td>\n",
       "      <td>-1.234899</td>\n",
       "      <td>-1.485419</td>\n",
       "      <td>-0.753230</td>\n",
       "      <td>-0.689405</td>\n",
       "      <td>-0.227487</td>\n",
       "      <td>-2.094011</td>\n",
       "      <td>...</td>\n",
       "      <td>-0.231809</td>\n",
       "      <td>-0.483285</td>\n",
       "      <td>0.084668</td>\n",
       "      <td>0.392831</td>\n",
       "      <td>0.161135</td>\n",
       "      <td>-0.354990</td>\n",
       "      <td>0.026416</td>\n",
       "      <td>0.042422</td>\n",
       "      <td>121.50</td>\n",
       "      <td>0</td>\n",
       "    </tr>\n",
       "  </tbody>\n",
       "</table>\n",
       "<p>5 rows × 31 columns</p>\n",
       "</div>"
      ],
      "text/plain": [
       "    Time        V1        V2        V3        V4        V5        V6  \\\n",
       "0      0 -1.359807 -0.072781  2.536347  1.378155 -0.338321  0.462388   \n",
       "3      1 -0.966272 -0.185226  1.792993 -0.863291 -0.010309  1.247203   \n",
       "6      4  1.229658  0.141004  0.045371  1.202613  0.191881  0.272708   \n",
       "9      9 -0.338262  1.119593  1.044367 -0.222187  0.499361 -0.246761   \n",
       "12    10  1.249999 -1.221637  0.383930 -1.234899 -1.485419 -0.753230   \n",
       "\n",
       "          V7        V8        V9  ...       V21       V22       V23       V24  \\\n",
       "0   0.239599  0.098698  0.363787  ... -0.018307  0.277838 -0.110474  0.066928   \n",
       "3   0.237609  0.377436 -1.387024  ... -0.108300  0.005274 -0.190321 -1.175575   \n",
       "6  -0.005159  0.081213  0.464960  ... -0.167716 -0.270710 -0.154104 -0.780055   \n",
       "9   0.651583  0.069539 -0.736727  ... -0.246914 -0.633753 -0.120794 -0.385050   \n",
       "12 -0.689405 -0.227487 -2.094011  ... -0.231809 -0.483285  0.084668  0.392831   \n",
       "\n",
       "         V25       V26       V27       V28  Amount  Class  \n",
       "0   0.128539 -0.189115  0.133558 -0.021053  149.62      0  \n",
       "3   0.647376 -0.221929  0.062723  0.061458  123.50      0  \n",
       "6   0.750137 -0.257237  0.034507  0.005168    4.99      0  \n",
       "9  -0.069733  0.094199  0.246219  0.083076    3.68      0  \n",
       "12  0.161135 -0.354990  0.026416  0.042422  121.50      0  \n",
       "\n",
       "[5 rows x 31 columns]"
      ]
     },
     "execution_count": 16,
     "metadata": {},
     "output_type": "execute_result"
    }
   ],
   "source": [
    "k = math.floor(population_size/sample_size)\n",
    "df_systematic_sample = df_resampled.iloc[::k]\n",
    "df_systematic_sample.head()"
   ]
  },
  {
   "cell_type": "markdown",
   "id": "5f34049e-2789-4e8d-8a5b-fa57115033df",
   "metadata": {},
   "source": [
    "## Cluster Sampling"
   ]
  },
  {
   "cell_type": "code",
   "execution_count": 17,
   "id": "54456625-f705-498d-bd59-7de31db6cd90",
   "metadata": {},
   "outputs": [
    {
     "data": {
      "text/html": [
       "<div>\n",
       "<style scoped>\n",
       "    .dataframe tbody tr th:only-of-type {\n",
       "        vertical-align: middle;\n",
       "    }\n",
       "\n",
       "    .dataframe tbody tr th {\n",
       "        vertical-align: top;\n",
       "    }\n",
       "\n",
       "    .dataframe thead th {\n",
       "        text-align: right;\n",
       "    }\n",
       "</style>\n",
       "<table border=\"1\" class=\"dataframe\">\n",
       "  <thead>\n",
       "    <tr style=\"text-align: right;\">\n",
       "      <th></th>\n",
       "      <th>Time</th>\n",
       "      <th>V1</th>\n",
       "      <th>V2</th>\n",
       "      <th>V3</th>\n",
       "      <th>V4</th>\n",
       "      <th>V5</th>\n",
       "      <th>V6</th>\n",
       "      <th>V7</th>\n",
       "      <th>V8</th>\n",
       "      <th>V9</th>\n",
       "      <th>...</th>\n",
       "      <th>V22</th>\n",
       "      <th>V23</th>\n",
       "      <th>V24</th>\n",
       "      <th>V25</th>\n",
       "      <th>V26</th>\n",
       "      <th>V27</th>\n",
       "      <th>V28</th>\n",
       "      <th>Amount</th>\n",
       "      <th>Class</th>\n",
       "      <th>cluster</th>\n",
       "    </tr>\n",
       "  </thead>\n",
       "  <tbody>\n",
       "    <tr>\n",
       "      <th>229</th>\n",
       "      <td>153</td>\n",
       "      <td>-0.903628</td>\n",
       "      <td>-0.233363</td>\n",
       "      <td>2.580864</td>\n",
       "      <td>-0.990572</td>\n",
       "      <td>-0.397920</td>\n",
       "      <td>0.281755</td>\n",
       "      <td>0.238619</td>\n",
       "      <td>0.249102</td>\n",
       "      <td>0.651330</td>\n",
       "      <td>...</td>\n",
       "      <td>-0.097906</td>\n",
       "      <td>0.059448</td>\n",
       "      <td>0.244548</td>\n",
       "      <td>-0.316141</td>\n",
       "      <td>0.754405</td>\n",
       "      <td>-0.166316</td>\n",
       "      <td>-0.138177</td>\n",
       "      <td>71.26</td>\n",
       "      <td>0</td>\n",
       "      <td>2</td>\n",
       "    </tr>\n",
       "    <tr>\n",
       "      <th>595</th>\n",
       "      <td>446</td>\n",
       "      <td>1.063317</td>\n",
       "      <td>-0.795951</td>\n",
       "      <td>1.268759</td>\n",
       "      <td>0.646970</td>\n",
       "      <td>-1.420886</td>\n",
       "      <td>0.438476</td>\n",
       "      <td>-1.104653</td>\n",
       "      <td>0.370817</td>\n",
       "      <td>-0.492432</td>\n",
       "      <td>...</td>\n",
       "      <td>-0.356986</td>\n",
       "      <td>0.093599</td>\n",
       "      <td>0.157001</td>\n",
       "      <td>0.082895</td>\n",
       "      <td>-0.399381</td>\n",
       "      <td>0.087402</td>\n",
       "      <td>0.039421</td>\n",
       "      <td>64.00</td>\n",
       "      <td>0</td>\n",
       "      <td>2</td>\n",
       "    </tr>\n",
       "    <tr>\n",
       "      <th>383</th>\n",
       "      <td>282</td>\n",
       "      <td>-0.356466</td>\n",
       "      <td>0.725418</td>\n",
       "      <td>1.971749</td>\n",
       "      <td>0.831343</td>\n",
       "      <td>0.369681</td>\n",
       "      <td>-0.107776</td>\n",
       "      <td>0.751610</td>\n",
       "      <td>-0.120166</td>\n",
       "      <td>-0.420675</td>\n",
       "      <td>...</td>\n",
       "      <td>0.424312</td>\n",
       "      <td>-0.015989</td>\n",
       "      <td>0.466754</td>\n",
       "      <td>-0.809962</td>\n",
       "      <td>0.657334</td>\n",
       "      <td>-0.043150</td>\n",
       "      <td>-0.046401</td>\n",
       "      <td>0.00</td>\n",
       "      <td>0</td>\n",
       "      <td>2</td>\n",
       "    </tr>\n",
       "    <tr>\n",
       "      <th>257</th>\n",
       "      <td>181</td>\n",
       "      <td>-0.723637</td>\n",
       "      <td>0.154496</td>\n",
       "      <td>1.263163</td>\n",
       "      <td>0.964978</td>\n",
       "      <td>-0.027170</td>\n",
       "      <td>2.285202</td>\n",
       "      <td>1.891703</td>\n",
       "      <td>-0.141478</td>\n",
       "      <td>-0.110655</td>\n",
       "      <td>...</td>\n",
       "      <td>0.424114</td>\n",
       "      <td>0.206428</td>\n",
       "      <td>-0.966411</td>\n",
       "      <td>-0.761682</td>\n",
       "      <td>-0.437223</td>\n",
       "      <td>-0.051109</td>\n",
       "      <td>-0.380738</td>\n",
       "      <td>318.50</td>\n",
       "      <td>0</td>\n",
       "      <td>2</td>\n",
       "    </tr>\n",
       "    <tr>\n",
       "      <th>130</th>\n",
       "      <td>82</td>\n",
       "      <td>-3.591826</td>\n",
       "      <td>1.348370</td>\n",
       "      <td>-0.998492</td>\n",
       "      <td>-1.402362</td>\n",
       "      <td>-0.596712</td>\n",
       "      <td>-0.385302</td>\n",
       "      <td>0.050621</td>\n",
       "      <td>1.210889</td>\n",
       "      <td>0.390260</td>\n",
       "      <td>...</td>\n",
       "      <td>-0.607106</td>\n",
       "      <td>0.176475</td>\n",
       "      <td>-0.891798</td>\n",
       "      <td>0.045145</td>\n",
       "      <td>0.727963</td>\n",
       "      <td>-0.032721</td>\n",
       "      <td>-0.456138</td>\n",
       "      <td>79.00</td>\n",
       "      <td>0</td>\n",
       "      <td>2</td>\n",
       "    </tr>\n",
       "  </tbody>\n",
       "</table>\n",
       "<p>5 rows × 32 columns</p>\n",
       "</div>"
      ],
      "text/plain": [
       "     Time        V1        V2        V3        V4        V5        V6  \\\n",
       "229   153 -0.903628 -0.233363  2.580864 -0.990572 -0.397920  0.281755   \n",
       "595   446  1.063317 -0.795951  1.268759  0.646970 -1.420886  0.438476   \n",
       "383   282 -0.356466  0.725418  1.971749  0.831343  0.369681 -0.107776   \n",
       "257   181 -0.723637  0.154496  1.263163  0.964978 -0.027170  2.285202   \n",
       "130    82 -3.591826  1.348370 -0.998492 -1.402362 -0.596712 -0.385302   \n",
       "\n",
       "           V7        V8        V9  ...       V22       V23       V24  \\\n",
       "229  0.238619  0.249102  0.651330  ... -0.097906  0.059448  0.244548   \n",
       "595 -1.104653  0.370817 -0.492432  ... -0.356986  0.093599  0.157001   \n",
       "383  0.751610 -0.120166 -0.420675  ...  0.424312 -0.015989  0.466754   \n",
       "257  1.891703 -0.141478 -0.110655  ...  0.424114  0.206428 -0.966411   \n",
       "130  0.050621  1.210889  0.390260  ... -0.607106  0.176475 -0.891798   \n",
       "\n",
       "          V25       V26       V27       V28  Amount  Class  cluster  \n",
       "229 -0.316141  0.754405 -0.166316 -0.138177   71.26      0        2  \n",
       "595  0.082895 -0.399381  0.087402  0.039421   64.00      0        2  \n",
       "383 -0.809962  0.657334 -0.043150 -0.046401    0.00      0        2  \n",
       "257 -0.761682 -0.437223 -0.051109 -0.380738  318.50      0        2  \n",
       "130  0.045145  0.727963 -0.032721 -0.456138   79.00      0        2  \n",
       "\n",
       "[5 rows x 32 columns]"
      ]
     },
     "execution_count": 17,
     "metadata": {},
     "output_type": "execute_result"
    }
   ],
   "source": [
    "def get_clustered_Sample(df, n_per_cluster, num_select_clusters):\n",
    "    N = len(df)\n",
    "    K = int(N/n_per_cluster)\n",
    "    data = None\n",
    "    for k in range(K):\n",
    "        sample_k = df.sample(n_per_cluster)\n",
    "        sample_k[\"cluster\"] = np.repeat(k,len(sample_k))\n",
    "        df = df.drop(index = sample_k.index)\n",
    "        data = pd.concat([data,sample_k],axis = 0)\n",
    "\n",
    "    random_chosen_clusters = np.random.randint(0,K,size = num_select_clusters)\n",
    "    samples = data[data.cluster.isin(random_chosen_clusters)]\n",
    "    return(samples)\n",
    "\n",
    "df_cluster_sample = get_clustered_Sample(df = df_resampled, n_per_cluster = sample_size, num_select_clusters = 1)\n",
    "df_cluster_sample.head()"
   ]
  },
  {
   "cell_type": "markdown",
   "id": "a7f88f52-892f-4d12-957f-52b15c293781",
   "metadata": {},
   "source": [
    "## Bootstrap Sampling"
   ]
  },
  {
   "cell_type": "code",
   "execution_count": 18,
   "id": "5f86eac7-fc87-408b-8624-986f3f15da98",
   "metadata": {},
   "outputs": [
    {
     "data": {
      "text/html": [
       "<div>\n",
       "<style scoped>\n",
       "    .dataframe tbody tr th:only-of-type {\n",
       "        vertical-align: middle;\n",
       "    }\n",
       "\n",
       "    .dataframe tbody tr th {\n",
       "        vertical-align: top;\n",
       "    }\n",
       "\n",
       "    .dataframe thead th {\n",
       "        text-align: right;\n",
       "    }\n",
       "</style>\n",
       "<table border=\"1\" class=\"dataframe\">\n",
       "  <thead>\n",
       "    <tr style=\"text-align: right;\">\n",
       "      <th></th>\n",
       "      <th>Time</th>\n",
       "      <th>V1</th>\n",
       "      <th>V2</th>\n",
       "      <th>V3</th>\n",
       "      <th>V4</th>\n",
       "      <th>V5</th>\n",
       "      <th>V6</th>\n",
       "      <th>V7</th>\n",
       "      <th>V8</th>\n",
       "      <th>V9</th>\n",
       "      <th>...</th>\n",
       "      <th>V21</th>\n",
       "      <th>V22</th>\n",
       "      <th>V23</th>\n",
       "      <th>V24</th>\n",
       "      <th>V25</th>\n",
       "      <th>V26</th>\n",
       "      <th>V27</th>\n",
       "      <th>V28</th>\n",
       "      <th>Amount</th>\n",
       "      <th>Class</th>\n",
       "    </tr>\n",
       "  </thead>\n",
       "  <tbody>\n",
       "    <tr>\n",
       "      <th>1126</th>\n",
       "      <td>534</td>\n",
       "      <td>-1.675727</td>\n",
       "      <td>0.079530</td>\n",
       "      <td>1.230027</td>\n",
       "      <td>-0.591561</td>\n",
       "      <td>0.924172</td>\n",
       "      <td>-0.339034</td>\n",
       "      <td>0.316385</td>\n",
       "      <td>0.117581</td>\n",
       "      <td>0.010623</td>\n",
       "      <td>...</td>\n",
       "      <td>-0.160475</td>\n",
       "      <td>-0.155322</td>\n",
       "      <td>-0.261576</td>\n",
       "      <td>-0.189172</td>\n",
       "      <td>-0.278725</td>\n",
       "      <td>0.186488</td>\n",
       "      <td>-0.326464</td>\n",
       "      <td>-0.363571</td>\n",
       "      <td>1.000000</td>\n",
       "      <td>1</td>\n",
       "    </tr>\n",
       "    <tr>\n",
       "      <th>1459</th>\n",
       "      <td>311</td>\n",
       "      <td>-1.380646</td>\n",
       "      <td>1.404944</td>\n",
       "      <td>-0.804779</td>\n",
       "      <td>2.481689</td>\n",
       "      <td>0.003062</td>\n",
       "      <td>-0.771307</td>\n",
       "      <td>-1.430878</td>\n",
       "      <td>0.902712</td>\n",
       "      <td>-1.736470</td>\n",
       "      <td>...</td>\n",
       "      <td>0.264985</td>\n",
       "      <td>-0.170501</td>\n",
       "      <td>-0.224588</td>\n",
       "      <td>-0.337437</td>\n",
       "      <td>-0.515274</td>\n",
       "      <td>0.137844</td>\n",
       "      <td>0.249667</td>\n",
       "      <td>0.002548</td>\n",
       "      <td>0.386577</td>\n",
       "      <td>1</td>\n",
       "    </tr>\n",
       "    <tr>\n",
       "      <th>860</th>\n",
       "      <td>154</td>\n",
       "      <td>0.517117</td>\n",
       "      <td>0.308178</td>\n",
       "      <td>0.667663</td>\n",
       "      <td>0.363656</td>\n",
       "      <td>0.348499</td>\n",
       "      <td>-0.342920</td>\n",
       "      <td>0.226054</td>\n",
       "      <td>0.008176</td>\n",
       "      <td>-0.219361</td>\n",
       "      <td>...</td>\n",
       "      <td>-0.132796</td>\n",
       "      <td>-0.345837</td>\n",
       "      <td>-0.013056</td>\n",
       "      <td>-0.109019</td>\n",
       "      <td>0.238449</td>\n",
       "      <td>-0.058629</td>\n",
       "      <td>-0.039368</td>\n",
       "      <td>-0.029991</td>\n",
       "      <td>2.152104</td>\n",
       "      <td>1</td>\n",
       "    </tr>\n",
       "    <tr>\n",
       "      <th>1294</th>\n",
       "      <td>428</td>\n",
       "      <td>-2.558054</td>\n",
       "      <td>0.234526</td>\n",
       "      <td>-0.702826</td>\n",
       "      <td>3.423346</td>\n",
       "      <td>0.110435</td>\n",
       "      <td>-1.304954</td>\n",
       "      <td>-1.575017</td>\n",
       "      <td>0.901070</td>\n",
       "      <td>-1.930017</td>\n",
       "      <td>...</td>\n",
       "      <td>0.565793</td>\n",
       "      <td>0.123116</td>\n",
       "      <td>0.153691</td>\n",
       "      <td>0.113805</td>\n",
       "      <td>0.123607</td>\n",
       "      <td>0.069197</td>\n",
       "      <td>0.088394</td>\n",
       "      <td>-0.083092</td>\n",
       "      <td>177.820755</td>\n",
       "      <td>1</td>\n",
       "    </tr>\n",
       "    <tr>\n",
       "      <th>1130</th>\n",
       "      <td>515</td>\n",
       "      <td>-1.677367</td>\n",
       "      <td>-1.623452</td>\n",
       "      <td>2.248358</td>\n",
       "      <td>0.851539</td>\n",
       "      <td>2.011292</td>\n",
       "      <td>0.143652</td>\n",
       "      <td>-1.209364</td>\n",
       "      <td>0.503583</td>\n",
       "      <td>0.627037</td>\n",
       "      <td>...</td>\n",
       "      <td>0.315139</td>\n",
       "      <td>0.919948</td>\n",
       "      <td>0.130341</td>\n",
       "      <td>-0.482671</td>\n",
       "      <td>-0.035361</td>\n",
       "      <td>0.464772</td>\n",
       "      <td>-0.118542</td>\n",
       "      <td>-0.157410</td>\n",
       "      <td>1.349321</td>\n",
       "      <td>1</td>\n",
       "    </tr>\n",
       "  </tbody>\n",
       "</table>\n",
       "<p>5 rows × 31 columns</p>\n",
       "</div>"
      ],
      "text/plain": [
       "      Time        V1        V2        V3        V4        V5        V6  \\\n",
       "1126   534 -1.675727  0.079530  1.230027 -0.591561  0.924172 -0.339034   \n",
       "1459   311 -1.380646  1.404944 -0.804779  2.481689  0.003062 -0.771307   \n",
       "860    154  0.517117  0.308178  0.667663  0.363656  0.348499 -0.342920   \n",
       "1294   428 -2.558054  0.234526 -0.702826  3.423346  0.110435 -1.304954   \n",
       "1130   515 -1.677367 -1.623452  2.248358  0.851539  2.011292  0.143652   \n",
       "\n",
       "            V7        V8        V9  ...       V21       V22       V23  \\\n",
       "1126  0.316385  0.117581  0.010623  ... -0.160475 -0.155322 -0.261576   \n",
       "1459 -1.430878  0.902712 -1.736470  ...  0.264985 -0.170501 -0.224588   \n",
       "860   0.226054  0.008176 -0.219361  ... -0.132796 -0.345837 -0.013056   \n",
       "1294 -1.575017  0.901070 -1.930017  ...  0.565793  0.123116  0.153691   \n",
       "1130 -1.209364  0.503583  0.627037  ...  0.315139  0.919948  0.130341   \n",
       "\n",
       "           V24       V25       V26       V27       V28      Amount  Class  \n",
       "1126 -0.189172 -0.278725  0.186488 -0.326464 -0.363571    1.000000      1  \n",
       "1459 -0.337437 -0.515274  0.137844  0.249667  0.002548    0.386577      1  \n",
       "860  -0.109019  0.238449 -0.058629 -0.039368 -0.029991    2.152104      1  \n",
       "1294  0.113805  0.123607  0.069197  0.088394 -0.083092  177.820755      1  \n",
       "1130 -0.482671 -0.035361  0.464772 -0.118542 -0.157410    1.349321      1  \n",
       "\n",
       "[5 rows x 31 columns]"
      ]
     },
     "execution_count": 18,
     "metadata": {},
     "output_type": "execute_result"
    }
   ],
   "source": [
    "df_bootstrap_sample = df_resampled.sample(n = sample_size, replace = True, random_state = 42)\n",
    "df_bootstrap_sample.head()"
   ]
  },
  {
   "cell_type": "markdown",
   "id": "92fe94fa-e2c3-4a7f-8129-f9401a395160",
   "metadata": {},
   "source": [
    "# Scaling and Splitting Data"
   ]
  },
  {
   "cell_type": "markdown",
   "id": "12d30ed7-01a3-413f-b836-1ed71e0009e3",
   "metadata": {},
   "source": [
    "## Simple Random Sample"
   ]
  },
  {
   "cell_type": "code",
   "execution_count": 45,
   "id": "3aba058e-7cf8-4352-bdb9-96188abc650d",
   "metadata": {},
   "outputs": [],
   "source": [
    "X_random_sample = df_random_sample.drop('Class', axis = 1)\n",
    "y_random_sample = df_random_sample['Class']\n",
    "\n",
    "X_random_scaled = scaler.fit_transform(X_random_sample)\n",
    "\n",
    "X_train_random, X_test_random, y_train_random, y_test_random = train_test_split(X_random_scaled, y_random_sample, test_size=0.2, random_state=42)"
   ]
  },
  {
   "cell_type": "markdown",
   "id": "afe388b8-3139-4d34-89c8-586d8561e1d1",
   "metadata": {},
   "source": [
    "## Systematic Sample"
   ]
  },
  {
   "cell_type": "code",
   "execution_count": 46,
   "id": "c0d12720-f07c-4441-8039-fe7539693a41",
   "metadata": {},
   "outputs": [],
   "source": [
    "X_systematic_sample = df_systematic_sample.drop('Class', axis = 1)\n",
    "y_systematic_sample = df_systematic_sample['Class']\n",
    "\n",
    "X_systematic_scaled = scaler.fit_transform(X_systematic_sample)\n",
    "\n",
    "X_train_systematic, X_test_systematic, y_train_systematic, y_test_systematic = train_test_split(X_systematic_scaled, y_systematic_sample, test_size=0.2, random_state=42)"
   ]
  },
  {
   "cell_type": "markdown",
   "id": "bd879ebf-15ba-423a-9011-c395e63b3cf6",
   "metadata": {},
   "source": [
    "## Cluster Sample"
   ]
  },
  {
   "cell_type": "code",
   "execution_count": 47,
   "id": "5f30491f-9a52-4f1c-bea6-742f594d5805",
   "metadata": {},
   "outputs": [],
   "source": [
    "X_cluster_sample = df_cluster_sample.drop('Class', axis = 1)\n",
    "y_cluster_sample = df_cluster_sample['Class']\n",
    "\n",
    "X_cluster_scaled = scaler.fit_transform(X_cluster_sample)\n",
    "\n",
    "X_train_cluster, X_test_cluster, y_train_cluster, y_test_cluster = train_test_split(X_cluster_scaled, y_cluster_sample, test_size=0.2, random_state=42)"
   ]
  },
  {
   "cell_type": "markdown",
   "id": "d2839cb3-e42a-47c3-ab5a-2e3a5e212a8d",
   "metadata": {},
   "source": [
    "## Bootstrap Sample"
   ]
  },
  {
   "cell_type": "code",
   "execution_count": 48,
   "id": "69349d7e-9e0c-4fe7-b2d4-98e7e2eeb928",
   "metadata": {},
   "outputs": [],
   "source": [
    "X_bootstrap_sample = df_bootstrap_sample.drop('Class', axis = 1)\n",
    "y_bootstrap_sample = df_bootstrap_sample['Class']\n",
    "\n",
    "X_bootstrap_scaled = scaler.fit_transform(X_bootstrap_sample)\n",
    "\n",
    "X_train_bootstrap, X_test_bootstrap, y_train_bootstrap, y_test_bootstrap = train_test_split(X_bootstrap_scaled, y_bootstrap_sample, test_size=0.2, random_state=42)"
   ]
  },
  {
   "cell_type": "markdown",
   "id": "f7082d3d-3e65-4b11-bc42-c481fbc5d3e6",
   "metadata": {},
   "source": [
    "# Model Training"
   ]
  },
  {
   "cell_type": "code",
   "execution_count": 32,
   "id": "475c935b-e5e8-4522-85a1-5b5b83a0c68b",
   "metadata": {},
   "outputs": [],
   "source": [
    "from sklearn.model_selection import train_test_split\n",
    "from sklearn.preprocessing import StandardScaler\n",
    "from sklearn.metrics import accuracy_score, classification_report\n",
    "\n",
    "scaler = StandardScaler()"
   ]
  },
  {
   "cell_type": "markdown",
   "id": "ee00cafd-893e-4c8b-ad02-cf77cd4fe54d",
   "metadata": {},
   "source": [
    "## Logistic Regression"
   ]
  },
  {
   "cell_type": "code",
   "execution_count": 19,
   "id": "350e4d8a-cf1a-4259-8246-9bba4f0e0e57",
   "metadata": {},
   "outputs": [],
   "source": [
    "from sklearn.linear_model import LogisticRegression\n",
    "\n",
    "model = LogisticRegression()"
   ]
  },
  {
   "cell_type": "markdown",
   "id": "8f65ae05-415d-4710-a2ca-61923b018815",
   "metadata": {},
   "source": [
    "### 1. Simple Random Sample"
   ]
  },
  {
   "cell_type": "code",
   "execution_count": 49,
   "id": "00c3df8c-65e2-41d6-9ed0-894dd351ebd4",
   "metadata": {},
   "outputs": [
    {
     "name": "stdout",
     "output_type": "stream",
     "text": [
      "Accuracy: 0.8831168831168831\n"
     ]
    }
   ],
   "source": [
    "model.fit(X_train_random, y_train_random)\n",
    "y_pred = model.predict(X_test_random)\n",
    "\n",
    "accuracy = accuracy_score(y_test_random, y_pred)\n",
    "print(\"Accuracy:\", accuracy)"
   ]
  },
  {
   "cell_type": "markdown",
   "id": "dab10bbe-9cb8-4e16-af1e-40af93aac817",
   "metadata": {},
   "source": [
    "### 2. Systematic Sample"
   ]
  },
  {
   "cell_type": "code",
   "execution_count": 50,
   "id": "c25cdd08-b0ca-4db4-b00e-f2917880edaa",
   "metadata": {},
   "outputs": [
    {
     "name": "stdout",
     "output_type": "stream",
     "text": [
      "Accuracy: 0.9019607843137255\n"
     ]
    }
   ],
   "source": [
    "model.fit(X_train_systematic, y_train_systematic)\n",
    "y_pred = model.predict(X_test_systematic)\n",
    "\n",
    "accuracy = accuracy_score(y_test_systematic, y_pred)\n",
    "print(\"Accuracy:\", accuracy)"
   ]
  },
  {
   "cell_type": "markdown",
   "id": "ea5a9d50-2ceb-4b39-be30-f97c0afaec49",
   "metadata": {},
   "source": [
    "### 3. Cluster Sample"
   ]
  },
  {
   "cell_type": "code",
   "execution_count": 51,
   "id": "22684614-6ed6-4e3a-a5a2-9a6a700ee8a1",
   "metadata": {},
   "outputs": [
    {
     "name": "stdout",
     "output_type": "stream",
     "text": [
      "Accuracy: 0.922077922077922\n"
     ]
    }
   ],
   "source": [
    "model.fit(X_train_cluster, y_train_cluster)\n",
    "y_pred = model.predict(X_test_cluster)\n",
    "\n",
    "accuracy = accuracy_score(y_test_cluster, y_pred)\n",
    "print(\"Accuracy:\", accuracy)"
   ]
  },
  {
   "cell_type": "markdown",
   "id": "1ba48253-775b-43ea-9e95-bc01bbb376ee",
   "metadata": {},
   "source": [
    "### 4. Bootstrap Sample"
   ]
  },
  {
   "cell_type": "code",
   "execution_count": 52,
   "id": "0d80d483-2238-4f95-954d-41ea0d1f4081",
   "metadata": {},
   "outputs": [
    {
     "name": "stdout",
     "output_type": "stream",
     "text": [
      "Accuracy: 0.961038961038961\n"
     ]
    }
   ],
   "source": [
    "model.fit(X_train_bootstrap, y_train_bootstrap)\n",
    "y_pred = model.predict(X_test_bootstrap)\n",
    "\n",
    "accuracy = accuracy_score(y_test_bootstrap, y_pred)\n",
    "print(\"Accuracy:\", accuracy)"
   ]
  },
  {
   "cell_type": "markdown",
   "id": "35a55995-3bff-4918-9634-68742e284f0e",
   "metadata": {},
   "source": [
    "## KNN"
   ]
  },
  {
   "cell_type": "code",
   "execution_count": 59,
   "id": "ceb6e0fa-4db0-4631-91e6-ba18f6cd48bf",
   "metadata": {},
   "outputs": [],
   "source": [
    "from sklearn.neighbors import KNeighborsClassifier\n",
    "\n",
    "model = KNeighborsClassifier(n_neighbors=5)"
   ]
  },
  {
   "cell_type": "markdown",
   "id": "a826554f-8776-458e-aff9-2924e7d7ef34",
   "metadata": {},
   "source": [
    "### 1. Simple Random Sample"
   ]
  },
  {
   "cell_type": "code",
   "execution_count": 61,
   "id": "773c765d-a3cb-48bb-9029-00fed8e7c558",
   "metadata": {},
   "outputs": [
    {
     "name": "stdout",
     "output_type": "stream",
     "text": [
      "Accuracy: 0.8701298701298701\n"
     ]
    }
   ],
   "source": [
    "model.fit(X_train_random, y_train_random)\n",
    "y_pred = model.predict(X_test_random)\n",
    "\n",
    "accuracy = accuracy_score(y_test_random, y_pred)\n",
    "print(\"Accuracy:\", accuracy)"
   ]
  },
  {
   "cell_type": "markdown",
   "id": "771ae5a2-4d03-41dc-a43f-743f2acf636d",
   "metadata": {},
   "source": [
    "### 2. Systematic Sample"
   ]
  },
  {
   "cell_type": "code",
   "execution_count": 62,
   "id": "4ec13a68-d00c-45ff-8aaa-ed24e7af1ea9",
   "metadata": {},
   "outputs": [
    {
     "name": "stdout",
     "output_type": "stream",
     "text": [
      "Accuracy: 0.8725490196078431\n"
     ]
    }
   ],
   "source": [
    "model.fit(X_train_systematic, y_train_systematic)\n",
    "y_pred = model.predict(X_test_systematic)\n",
    "\n",
    "accuracy = accuracy_score(y_test_systematic, y_pred)\n",
    "print(\"Accuracy:\", accuracy)"
   ]
  },
  {
   "cell_type": "markdown",
   "id": "b0683dc4-6c4c-4c03-a150-29cddc7f992e",
   "metadata": {},
   "source": [
    "### 3. Cluster Sample"
   ]
  },
  {
   "cell_type": "code",
   "execution_count": 63,
   "id": "36db0e0a-9531-4a8c-a316-062217646253",
   "metadata": {},
   "outputs": [
    {
     "name": "stdout",
     "output_type": "stream",
     "text": [
      "Accuracy: 0.8961038961038961\n"
     ]
    }
   ],
   "source": [
    "model.fit(X_train_cluster, y_train_cluster)\n",
    "y_pred = model.predict(X_test_cluster)\n",
    "\n",
    "accuracy = accuracy_score(y_test_cluster, y_pred)\n",
    "print(\"Accuracy:\", accuracy)"
   ]
  },
  {
   "cell_type": "markdown",
   "id": "c96c5324-392e-4310-96d8-c0b963b19e5f",
   "metadata": {},
   "source": [
    "### 4. Bootstrap Sample"
   ]
  },
  {
   "cell_type": "code",
   "execution_count": 64,
   "id": "669bb67b-c46b-4c5e-9135-eb5f5af08584",
   "metadata": {},
   "outputs": [
    {
     "name": "stdout",
     "output_type": "stream",
     "text": [
      "Accuracy: 0.948051948051948\n"
     ]
    }
   ],
   "source": [
    "model.fit(X_train_bootstrap, y_train_bootstrap)\n",
    "y_pred = model.predict(X_test_bootstrap)\n",
    "\n",
    "accuracy = accuracy_score(y_test_bootstrap, y_pred)\n",
    "print(\"Accuracy:\", accuracy)"
   ]
  },
  {
   "cell_type": "markdown",
   "id": "b89f3518-a751-4ab6-8f95-0650492ba749",
   "metadata": {},
   "source": [
    "## Naive Bayes"
   ]
  },
  {
   "cell_type": "code",
   "execution_count": 65,
   "id": "caf7bad5-4c0e-4720-b48a-d01c8e6951f9",
   "metadata": {},
   "outputs": [],
   "source": [
    "from sklearn.naive_bayes import GaussianNB\n",
    "\n",
    "model = GaussianNB()"
   ]
  },
  {
   "cell_type": "markdown",
   "id": "7f2a99d9-18eb-40ed-870a-033b9bcbf99b",
   "metadata": {},
   "source": [
    "### 1. Simple Random Sample"
   ]
  },
  {
   "cell_type": "code",
   "execution_count": 68,
   "id": "88ac3c42-a20b-4245-8a26-a0696686d5eb",
   "metadata": {},
   "outputs": [
    {
     "name": "stdout",
     "output_type": "stream",
     "text": [
      "Accuracy: 0.8311688311688312\n"
     ]
    }
   ],
   "source": [
    "model.fit(X_train_random, y_train_random)\n",
    "y_pred = model.predict(X_test_random)\n",
    "\n",
    "accuracy = accuracy_score(y_test_random, y_pred)\n",
    "print(\"Accuracy:\", accuracy)"
   ]
  },
  {
   "cell_type": "markdown",
   "id": "3b1a9236-55ee-40fd-9f1a-c23e5ba20f5b",
   "metadata": {},
   "source": [
    "### 2. Systematic Sample"
   ]
  },
  {
   "cell_type": "code",
   "execution_count": 69,
   "id": "77874c83-f7ad-4576-bc80-34051c63d1a9",
   "metadata": {},
   "outputs": [
    {
     "name": "stdout",
     "output_type": "stream",
     "text": [
      "Accuracy: 0.8431372549019608\n"
     ]
    }
   ],
   "source": [
    "model.fit(X_train_systematic, y_train_systematic)\n",
    "y_pred = model.predict(X_test_systematic)\n",
    "\n",
    "accuracy = accuracy_score(y_test_systematic, y_pred)\n",
    "print(\"Accuracy:\", accuracy)"
   ]
  },
  {
   "cell_type": "markdown",
   "id": "9fe3c53e-0f21-4265-82b1-36076dd6965d",
   "metadata": {},
   "source": [
    "### 3. Cluster Sample"
   ]
  },
  {
   "cell_type": "code",
   "execution_count": 70,
   "id": "fb2ae427-213e-49a0-a30e-fbeaf36dd7e4",
   "metadata": {},
   "outputs": [
    {
     "name": "stdout",
     "output_type": "stream",
     "text": [
      "Accuracy: 0.7922077922077922\n"
     ]
    }
   ],
   "source": [
    "model.fit(X_train_cluster, y_train_cluster)\n",
    "y_pred = model.predict(X_test_cluster)\n",
    "\n",
    "accuracy = accuracy_score(y_test_cluster, y_pred)\n",
    "print(\"Accuracy:\", accuracy)"
   ]
  },
  {
   "cell_type": "markdown",
   "id": "227b4b9e-9ad0-4592-97ec-2908f9d119c2",
   "metadata": {},
   "source": [
    "### 4. Bootstrap Sample"
   ]
  },
  {
   "cell_type": "code",
   "execution_count": 71,
   "id": "7da201b8-9b7f-43fb-b85d-6d2f262901db",
   "metadata": {},
   "outputs": [
    {
     "name": "stdout",
     "output_type": "stream",
     "text": [
      "Accuracy: 0.8701298701298701\n"
     ]
    }
   ],
   "source": [
    "model.fit(X_train_bootstrap, y_train_bootstrap)\n",
    "y_pred = model.predict(X_test_bootstrap)\n",
    "\n",
    "accuracy = accuracy_score(y_test_bootstrap, y_pred)\n",
    "print(\"Accuracy:\", accuracy)"
   ]
  },
  {
   "cell_type": "markdown",
   "id": "30fcd1a8-c082-404d-aac0-c89f0873e1f1",
   "metadata": {},
   "source": [
    "## Decision Trees"
   ]
  },
  {
   "cell_type": "code",
   "execution_count": 73,
   "id": "201ad4b6-4de8-4cf1-817d-4b3c1c9b603b",
   "metadata": {},
   "outputs": [],
   "source": [
    "from sklearn.tree import DecisionTreeClassifier\n",
    "\n",
    "model = DecisionTreeClassifier()"
   ]
  },
  {
   "cell_type": "markdown",
   "id": "32debd6f-78da-4c7f-945d-f1d0f8ed65c9",
   "metadata": {},
   "source": [
    "### 1. Simple Random Sample"
   ]
  },
  {
   "cell_type": "code",
   "execution_count": 74,
   "id": "a12dec3a-0bb9-4278-a8b5-cf8237424b79",
   "metadata": {},
   "outputs": [
    {
     "name": "stdout",
     "output_type": "stream",
     "text": [
      "Accuracy: 0.935064935064935\n"
     ]
    }
   ],
   "source": [
    "model.fit(X_train_random, y_train_random)\n",
    "y_pred = model.predict(X_test_random)\n",
    "\n",
    "accuracy = accuracy_score(y_test_random, y_pred)\n",
    "print(\"Accuracy:\", accuracy)"
   ]
  },
  {
   "cell_type": "markdown",
   "id": "58425f6f-eb7b-4e5e-ba2a-57cdd198ffe5",
   "metadata": {},
   "source": [
    "### 2. Systematic Sample"
   ]
  },
  {
   "cell_type": "code",
   "execution_count": 75,
   "id": "d44ae893-a4da-468b-a6a7-e7ae329151f3",
   "metadata": {},
   "outputs": [
    {
     "name": "stdout",
     "output_type": "stream",
     "text": [
      "Accuracy: 0.9901960784313726\n"
     ]
    }
   ],
   "source": [
    "model.fit(X_train_systematic, y_train_systematic)\n",
    "y_pred = model.predict(X_test_systematic)\n",
    "\n",
    "accuracy = accuracy_score(y_test_systematic, y_pred)\n",
    "print(\"Accuracy:\", accuracy)"
   ]
  },
  {
   "cell_type": "markdown",
   "id": "2bc4369c-f1ec-4442-bd9a-e33e69b69f11",
   "metadata": {},
   "source": [
    "### 3. Cluster Sample"
   ]
  },
  {
   "cell_type": "code",
   "execution_count": 76,
   "id": "8febbed3-9068-42e7-8e37-5b0802bb9b51",
   "metadata": {},
   "outputs": [
    {
     "name": "stdout",
     "output_type": "stream",
     "text": [
      "Accuracy: 0.974025974025974\n"
     ]
    }
   ],
   "source": [
    "model.fit(X_train_cluster, y_train_cluster)\n",
    "y_pred = model.predict(X_test_cluster)\n",
    "\n",
    "accuracy = accuracy_score(y_test_cluster, y_pred)\n",
    "print(\"Accuracy:\", accuracy)"
   ]
  },
  {
   "cell_type": "markdown",
   "id": "96735c18-1535-4c83-91be-6366464d0d72",
   "metadata": {},
   "source": [
    "### 4. Bootstrap Sample"
   ]
  },
  {
   "cell_type": "code",
   "execution_count": 77,
   "id": "15f67839-82f5-4279-89e9-563ae9b36794",
   "metadata": {},
   "outputs": [
    {
     "name": "stdout",
     "output_type": "stream",
     "text": [
      "Accuracy: 0.987012987012987\n"
     ]
    }
   ],
   "source": [
    "model.fit(X_train_bootstrap, y_train_bootstrap)\n",
    "y_pred = model.predict(X_test_bootstrap)\n",
    "\n",
    "accuracy = accuracy_score(y_test_bootstrap, y_pred)\n",
    "print(\"Accuracy:\", accuracy)"
   ]
  },
  {
   "cell_type": "markdown",
   "id": "b75be1f9-a04e-4831-a69d-ccd581af585c",
   "metadata": {},
   "source": [
    "## Random Forest"
   ]
  },
  {
   "cell_type": "code",
   "execution_count": 84,
   "id": "483577a8-3072-491b-81ff-bf94cb3cdd24",
   "metadata": {},
   "outputs": [],
   "source": [
    "from sklearn.ensemble import RandomForestClassifier\n",
    "\n",
    "model = RandomForestClassifier(n_estimators=10, random_state=42)"
   ]
  },
  {
   "cell_type": "markdown",
   "id": "26035bd4-73df-41e8-a57b-148ccbebd319",
   "metadata": {},
   "source": [
    "### 1. Simple Random Sample"
   ]
  },
  {
   "cell_type": "code",
   "execution_count": 85,
   "id": "9ed14e9f-6ce9-446f-b8eb-f8484fad8120",
   "metadata": {},
   "outputs": [
    {
     "name": "stdout",
     "output_type": "stream",
     "text": [
      "Accuracy: 0.974025974025974\n"
     ]
    }
   ],
   "source": [
    "model.fit(X_train_random, y_train_random)\n",
    "y_pred = model.predict(X_test_random)\n",
    "\n",
    "accuracy = accuracy_score(y_test_random, y_pred)\n",
    "print(\"Accuracy:\", accuracy)"
   ]
  },
  {
   "cell_type": "markdown",
   "id": "f9d31cce-19e3-47a1-b700-c67a295d75e6",
   "metadata": {},
   "source": [
    "### 2. Systematic Sample"
   ]
  },
  {
   "cell_type": "code",
   "execution_count": 86,
   "id": "198461be-a2ed-42ad-8157-9dc4f6db7169",
   "metadata": {},
   "outputs": [
    {
     "name": "stdout",
     "output_type": "stream",
     "text": [
      "Accuracy: 1.0\n"
     ]
    }
   ],
   "source": [
    "model.fit(X_train_systematic, y_train_systematic)\n",
    "y_pred = model.predict(X_test_systematic)\n",
    "\n",
    "accuracy = accuracy_score(y_test_systematic, y_pred)\n",
    "print(\"Accuracy:\", accuracy)"
   ]
  },
  {
   "cell_type": "markdown",
   "id": "2b415efb-f9e8-44f4-9a08-82c0ac4089ca",
   "metadata": {},
   "source": [
    "### 3. Cluster Sample"
   ]
  },
  {
   "cell_type": "code",
   "execution_count": 87,
   "id": "9fa0e06b-5866-429e-816a-7e551e84dcb9",
   "metadata": {},
   "outputs": [
    {
     "name": "stdout",
     "output_type": "stream",
     "text": [
      "Accuracy: 0.987012987012987\n"
     ]
    }
   ],
   "source": [
    "model.fit(X_train_cluster, y_train_cluster)\n",
    "y_pred = model.predict(X_test_cluster)\n",
    "\n",
    "accuracy = accuracy_score(y_test_cluster, y_pred)\n",
    "print(\"Accuracy:\", accuracy)"
   ]
  },
  {
   "cell_type": "markdown",
   "id": "b3162c1d-71be-4188-8c4d-5fcc8e178654",
   "metadata": {},
   "source": [
    "### 4. Bootstrap Sample"
   ]
  },
  {
   "cell_type": "code",
   "execution_count": 88,
   "id": "25ff2a9a-d7a6-4616-9d3e-263678a7a59d",
   "metadata": {},
   "outputs": [
    {
     "name": "stdout",
     "output_type": "stream",
     "text": [
      "Accuracy: 1.0\n"
     ]
    }
   ],
   "source": [
    "model.fit(X_train_bootstrap, y_train_bootstrap)\n",
    "y_pred = model.predict(X_test_bootstrap)\n",
    "\n",
    "accuracy = accuracy_score(y_test_bootstrap, y_pred)\n",
    "print(\"Accuracy:\", accuracy)"
   ]
  },
  {
   "cell_type": "code",
   "execution_count": null,
   "id": "ca96b087-bfb8-45e7-8dd9-6cf3d04d0b1e",
   "metadata": {},
   "outputs": [],
   "source": []
  }
 ],
 "metadata": {
  "kernelspec": {
   "display_name": "Python 3 (ipykernel)",
   "language": "python",
   "name": "python3"
  },
  "language_info": {
   "codemirror_mode": {
    "name": "ipython",
    "version": 3
   },
   "file_extension": ".py",
   "mimetype": "text/x-python",
   "name": "python",
   "nbconvert_exporter": "python",
   "pygments_lexer": "ipython3",
   "version": "3.11.7"
  }
 },
 "nbformat": 4,
 "nbformat_minor": 5
}
